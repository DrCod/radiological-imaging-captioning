{
 "cells": [
  {
   "cell_type": "code",
   "execution_count": 1,
   "metadata": {},
   "outputs": [],
   "source": [
    "                                                                                                                                                                                                                                                                                                                                                                                                                                                                                                                                                                                                                                                                                                                                                                                                                                                                                                                                                                                                                                                                                                                                                                                                                                                                                                                                                                                                                                                                                                                                                                                                                                                                                                                                                                                                                                                                                                                                                                                                                                                                                                                                                                                                                                                                                                                                                                                                                                                                                                                                                                                                                                                                                                                                                                                                                                                                                                                                                                                                                                                                                                                                                                                                                                                                                                                                                                                                                                                                                                                                                                                                                                                                                                                                                                                                                                                                                                                                                                                                                                                                                                                                                                                                                                                                                                                                                                                                                                                                                                                                                                                                                                                                                                                                                                                                                                                                                                                                                                                                                                                                                                                                                                                                                                                                                                                                                                                                                                                                                                                                                                                                                                                                                                                                                                                                                                                                                                                                                                                                                                                                                                                                                                                                                                                                                                                                                                                                                                                                                                                                                                                                                                                                                                                                                                                                                                                                                                                                                                                                                                                                                                                                                                                                                                                                                                                                                                                                                                                                                                                                                                                                                                                                                                                                                                                                                                                                                                                                                                                                                                                                                                                                                                                                                                                                                                                                                                                                                                                                                                                                                                                                                                                                                                                                                                                                                                                                                                                                                                                                                                                                                                                                                                                                                                                                                                                                                                                                                                                                                                                                                                                                                                                                                                                                                                                                                                                                                                                                                                                                                                                                                                                                                                                                                                                                                                                                                                                                                                                                                                                                                                                                                                                                                                                                                                                                                                                                                                                                                                                                                                                                                                                                                                                                                                                                                                                                                                                                                                                                                                                                                                                                                                                                                                                                                                                                                                                                                                                                                                                                                                                                                                                                                                                                                                                                                                                                                                                                                                                                                                                                                                                                                                                                                                                                                                                                                                                                                                                                                                                                                                                                                                                                                                                                                                                                                                                                                                                                                                                                                                                                                                                                                                                                                                                                                                                                                                                                                                                                                                                                                                                                                                                                                                                                                                                                                                                                                                                                                                                                                                                                                                                                                                                                                                                                                                                                                                                                                                                                                                                                                                                                                                                                                                                                                                                                                                                                                                                                                                                                                                                                                                                                                                                                                                                                                                                                                                                                                                                                                                                                                                                                                                                                                                                                                                                                                                                                                                                                                                                                                                                                                                                                                                                                                                                                                                                                                                                                                                                                                                                                                                                                                                                                                                                                                                                                                                                                import os\n",
    "os.environ['KERAS_BACKEND'] = 'tensorflow'"
   ]
  },
  {
   "cell_type": "code",
   "execution_count": 2,
   "metadata": {},
   "outputs": [
    {
     "name": "stderr",
     "output_type": "stream",
     "text": [
      "Using TensorFlow backend.\n"
     ]
    }
   ],
   "source": [
    "\n",
    "from __future__ import absolute_import\n",
    "from __future__ import print_function\n",
    "import pylab as pl\n",
    "import matplotlib.cm as cm\n",
    "import itertools\n",
    "import numpy as np\n",
    "import csv\n",
    "np.random.seed(1337) # for reproducibility\n",
    "\n",
    "from keras.models import Sequential\n",
    "from keras.layers import Dense, Dropout, Activation, Flatten\n",
    "from keras.layers import Conv2D, MaxPooling2D, Lambda\n",
    "from keras.layers import Dense\n",
    "from keras.utils import np_utils\n",
    "from keras.preprocessing.image import ImageDataGenerator\n",
    "from sklearn.preprocessing import LabelEncoder\n",
    "\n",
    "from keras import backend as K\n",
    "\n",
    "import cv2\n",
    "import numpy as np\n",
    "import pandas as pd\n",
    "import matplotlib.pyplot as plt\n",
    "import scipy\n",
    "from keras.wrappers.scikit_learn import KerasClassifier\n",
    "from sklearn.model_selection import cross_val_score\n",
    "from sklearn.model_selection import KFold\n",
    "from sklearn.model_selection import train_test_split\n"
   ]
  },
  {
   "cell_type": "code",
   "execution_count": 90,
   "metadata": {},
   "outputs": [],
   "source": [
    "#load datasets\n",
    "DATASETS_PATH = \"./MontgomerySet/CXR_png/\"\n",
    "batch_size =32\n",
    "num_classes = 2\n",
    "epochs =50\n",
    "PREFIX = \"MCUCXR_\"\n",
    "SUFFICES = [ \"_0.png\",\"_1.png\"]\n",
    "def get_image_filename(index):\n",
    "    num_zeros = 4-len(str(index))\n",
    "    if(index < 104):\n",
    "        img_path = PREFIX + \"0\"*num_zeros + str(index) + SUFFICES[0]\n",
    "    else:\n",
    "        img_path = PREFIX + \"0\"*num_zeros + str(index) + SUFFICES[1]\n",
    "    return (DATASETS_PATH + img_path)"
   ]
  },
  {
   "cell_type": "code",
   "execution_count": 4,
   "metadata": {},
   "outputs": [
    {
     "data": {
      "text/plain": [
       "'./MontgomerySet/CXR_png/MCUCXR_0001_0.png'"
      ]
     },
     "execution_count": 4,
     "metadata": {},
     "output_type": "execute_result"
    }
   ],
   "source": [
    "get_image_filename(1)"
   ]
  },
  {
   "cell_type": "code",
   "execution_count": 5,
   "metadata": {},
   "outputs": [
    {
     "data": {
      "text/plain": [
       "'./MontgomerySet/CXR_png/MCUCXR_0104_1.png'"
      ]
     },
     "execution_count": 5,
     "metadata": {},
     "output_type": "execute_result"
    }
   ],
   "source": [
    "get_image_filename(104)"
   ]
  },
  {
   "cell_type": "code",
   "execution_count": 6,
   "metadata": {},
   "outputs": [],
   "source": [
    "CAPTIONS_PATH = \"./MontgomerySet/ClinicalReadings/\"\n",
    "\n",
    "caption_list = os.listdir(CAPTIONS_PATH)\n",
    "\n",
    "captions =[]\n",
    "for fname in caption_list:\n",
    "    with open(os.path.join(CAPTIONS_PATH,fname)) as f:\n",
    "            lines = f.read().splitlines(True)\n",
    "            caption =lines[-1]\n",
    "            captions.append(caption[:-1])\n",
    "    f.close()\n",
    "captions = np.asarray(captions)\n",
    "pd.DataFrame(captions).to_csv(\"./MontgomerySet/Captions.csv\")"
   ]
  },
  {
   "cell_type": "code",
   "execution_count": 7,
   "metadata": {
    "scrolled": true
   },
   "outputs": [
    {
     "name": "stderr",
     "output_type": "stream",
     "text": [
      "/home/dronny/anaconda3/envs/tensorflow/lib/python3.6/site-packages/ipykernel_launcher.py:14: DeprecationWarning: `imresize` is deprecated!\n",
      "`imresize` is deprecated in SciPy 1.0.0, and will be removed in 1.2.0.\n",
      "Use ``skimage.transform.resize`` instead.\n",
      "  \n"
     ]
    },
    {
     "name": "stdout",
     "output_type": "stream",
     "text": [
      "No file found ./MontgomerySet/CXR_png/MCUCXR_0007_0.png\n",
      "No file found ./MontgomerySet/CXR_png/MCUCXR_0009_0.png\n",
      "No file found ./MontgomerySet/CXR_png/MCUCXR_0010_0.png\n",
      "No file found ./MontgomerySet/CXR_png/MCUCXR_0012_0.png\n",
      "No file found ./MontgomerySet/CXR_png/MCUCXR_0014_0.png\n",
      "No file found ./MontgomerySet/CXR_png/MCUCXR_0018_0.png\n",
      "No file found ./MontgomerySet/CXR_png/MCUCXR_0025_0.png\n",
      "No file found ./MontgomerySet/CXR_png/MCUCXR_0032_0.png\n",
      "No file found ./MontgomerySet/CXR_png/MCUCXR_0033_0.png\n",
      "No file found ./MontgomerySet/CXR_png/MCUCXR_0034_0.png\n",
      "No file found ./MontgomerySet/CXR_png/MCUCXR_0036_0.png\n",
      "No file found ./MontgomerySet/CXR_png/MCUCXR_0037_0.png\n",
      "No file found ./MontgomerySet/CXR_png/MCUCXR_0039_0.png\n",
      "No file found ./MontgomerySet/CXR_png/MCUCXR_0050_0.png\n",
      "No file found ./MontgomerySet/CXR_png/MCUCXR_0065_0.png\n",
      "No file found ./MontgomerySet/CXR_png/MCUCXR_0066_0.png\n",
      "No file found ./MontgomerySet/CXR_png/MCUCXR_0067_0.png\n",
      "No file found ./MontgomerySet/CXR_png/MCUCXR_0073_0.png\n",
      "No file found ./MontgomerySet/CXR_png/MCUCXR_0076_0.png\n",
      "No file found ./MontgomerySet/CXR_png/MCUCXR_0078_0.png\n",
      "No file found ./MontgomerySet/CXR_png/MCUCXR_0088_0.png\n",
      "No file found ./MontgomerySet/CXR_png/MCUCXR_0093_0.png\n",
      "No file found ./MontgomerySet/CXR_png/MCUCXR_0098_0.png\n",
      "No file found ./MontgomerySet/CXR_png/MCUCXR_0105_1.png\n",
      "No file found ./MontgomerySet/CXR_png/MCUCXR_0106_1.png\n",
      "No file found ./MontgomerySet/CXR_png/MCUCXR_0107_1.png\n",
      "No file found ./MontgomerySet/CXR_png/MCUCXR_0109_1.png\n",
      "No file found ./MontgomerySet/CXR_png/MCUCXR_0110_1.png\n",
      "No file found ./MontgomerySet/CXR_png/MCUCXR_0111_1.png\n",
      "No file found ./MontgomerySet/CXR_png/MCUCXR_0112_1.png\n",
      "No file found ./MontgomerySet/CXR_png/MCUCXR_0114_1.png\n",
      "No file found ./MontgomerySet/CXR_png/MCUCXR_0115_1.png\n",
      "No file found ./MontgomerySet/CXR_png/MCUCXR_0116_1.png\n",
      "No file found ./MontgomerySet/CXR_png/MCUCXR_0118_1.png\n",
      "No file found ./MontgomerySet/CXR_png/MCUCXR_0119_1.png\n",
      "No file found ./MontgomerySet/CXR_png/MCUCXR_0120_1.png\n",
      "No file found ./MontgomerySet/CXR_png/MCUCXR_0121_1.png\n",
      "No file found ./MontgomerySet/CXR_png/MCUCXR_0122_1.png\n",
      "No file found ./MontgomerySet/CXR_png/MCUCXR_0123_1.png\n",
      "No file found ./MontgomerySet/CXR_png/MCUCXR_0124_1.png\n",
      "No file found ./MontgomerySet/CXR_png/MCUCXR_0125_1.png\n",
      "No file found ./MontgomerySet/CXR_png/MCUCXR_0127_1.png\n",
      "No file found ./MontgomerySet/CXR_png/MCUCXR_0128_1.png\n",
      "No file found ./MontgomerySet/CXR_png/MCUCXR_0129_1.png\n",
      "No file found ./MontgomerySet/CXR_png/MCUCXR_0130_1.png\n",
      "No file found ./MontgomerySet/CXR_png/MCUCXR_0131_1.png\n",
      "No file found ./MontgomerySet/CXR_png/MCUCXR_0132_1.png\n",
      "No file found ./MontgomerySet/CXR_png/MCUCXR_0133_1.png\n",
      "No file found ./MontgomerySet/CXR_png/MCUCXR_0134_1.png\n",
      "No file found ./MontgomerySet/CXR_png/MCUCXR_0135_1.png\n",
      "No file found ./MontgomerySet/CXR_png/MCUCXR_0136_1.png\n",
      "No file found ./MontgomerySet/CXR_png/MCUCXR_0137_1.png\n",
      "No file found ./MontgomerySet/CXR_png/MCUCXR_0138_1.png\n",
      "No file found ./MontgomerySet/CXR_png/MCUCXR_0139_1.png\n"
     ]
    }
   ],
   "source": [
    "BASE_PATH = \"./MontgomerySet/\"\n",
    "\n",
    "reader = csv.reader(open(BASE_PATH + 'Captions.csv'))\n",
    "X =[]\n",
    "Y =[]\n",
    "fileNames =[]\n",
    "fileNamesExcluded = []\n",
    "for i,row in enumerate(reader):\n",
    "    if len(row) > 0:\n",
    "        filename = get_image_filename(i+1)\n",
    "        img_file = cv2.imread(filename)\n",
    "        if img_file is not None:\n",
    "            img_file = cv2.cvtColor(img_file, cv2.COLOR_BGR2RGB)\n",
    "            img_file = scipy.misc.imresize(arr=img_file, size=(240, 320, 3))        \n",
    "            img_arr = np.asarray(img_file)\n",
    "            fileNames.append(filename)\n",
    "            X.append(img_arr)\n",
    "            Y.append(row[1])\n",
    "        else:\n",
    "            fileNamesExcluded.append(filename)\n",
    "            print(\"No file found\", filename)\n",
    "\n",
    "for file in sorted(os.listdir(DATASETS_PATH)):\n",
    "    file =os.path.join(DATASETS_PATH,file);\n",
    "    if file not in fileNames:\n",
    "        if file not in fileNamesExcluded:\n",
    "            fileNames.append(file)"
   ]
  },
  {
   "cell_type": "code",
   "execution_count": 103,
   "metadata": {},
   "outputs": [
    {
     "data": {
      "text/plain": [
       "['./MontgomerySet/CXR_png/MCUCXR_0001_0.png',\n",
       " './MontgomerySet/CXR_png/MCUCXR_0002_0.png',\n",
       " './MontgomerySet/CXR_png/MCUCXR_0003_0.png',\n",
       " './MontgomerySet/CXR_png/MCUCXR_0004_0.png',\n",
       " './MontgomerySet/CXR_png/MCUCXR_0005_0.png',\n",
       " './MontgomerySet/CXR_png/MCUCXR_0006_0.png',\n",
       " './MontgomerySet/CXR_png/MCUCXR_0008_0.png',\n",
       " './MontgomerySet/CXR_png/MCUCXR_0011_0.png',\n",
       " './MontgomerySet/CXR_png/MCUCXR_0013_0.png',\n",
       " './MontgomerySet/CXR_png/MCUCXR_0015_0.png',\n",
       " './MontgomerySet/CXR_png/MCUCXR_0016_0.png',\n",
       " './MontgomerySet/CXR_png/MCUCXR_0017_0.png',\n",
       " './MontgomerySet/CXR_png/MCUCXR_0019_0.png',\n",
       " './MontgomerySet/CXR_png/MCUCXR_0020_0.png',\n",
       " './MontgomerySet/CXR_png/MCUCXR_0021_0.png',\n",
       " './MontgomerySet/CXR_png/MCUCXR_0022_0.png',\n",
       " './MontgomerySet/CXR_png/MCUCXR_0023_0.png',\n",
       " './MontgomerySet/CXR_png/MCUCXR_0024_0.png',\n",
       " './MontgomerySet/CXR_png/MCUCXR_0026_0.png',\n",
       " './MontgomerySet/CXR_png/MCUCXR_0027_0.png',\n",
       " './MontgomerySet/CXR_png/MCUCXR_0028_0.png',\n",
       " './MontgomerySet/CXR_png/MCUCXR_0029_0.png',\n",
       " './MontgomerySet/CXR_png/MCUCXR_0030_0.png',\n",
       " './MontgomerySet/CXR_png/MCUCXR_0031_0.png',\n",
       " './MontgomerySet/CXR_png/MCUCXR_0035_0.png',\n",
       " './MontgomerySet/CXR_png/MCUCXR_0038_0.png',\n",
       " './MontgomerySet/CXR_png/MCUCXR_0040_0.png',\n",
       " './MontgomerySet/CXR_png/MCUCXR_0041_0.png',\n",
       " './MontgomerySet/CXR_png/MCUCXR_0042_0.png',\n",
       " './MontgomerySet/CXR_png/MCUCXR_0043_0.png',\n",
       " './MontgomerySet/CXR_png/MCUCXR_0044_0.png',\n",
       " './MontgomerySet/CXR_png/MCUCXR_0045_0.png',\n",
       " './MontgomerySet/CXR_png/MCUCXR_0046_0.png',\n",
       " './MontgomerySet/CXR_png/MCUCXR_0047_0.png',\n",
       " './MontgomerySet/CXR_png/MCUCXR_0048_0.png',\n",
       " './MontgomerySet/CXR_png/MCUCXR_0049_0.png',\n",
       " './MontgomerySet/CXR_png/MCUCXR_0051_0.png',\n",
       " './MontgomerySet/CXR_png/MCUCXR_0052_0.png',\n",
       " './MontgomerySet/CXR_png/MCUCXR_0053_0.png',\n",
       " './MontgomerySet/CXR_png/MCUCXR_0054_0.png',\n",
       " './MontgomerySet/CXR_png/MCUCXR_0055_0.png',\n",
       " './MontgomerySet/CXR_png/MCUCXR_0056_0.png',\n",
       " './MontgomerySet/CXR_png/MCUCXR_0057_0.png',\n",
       " './MontgomerySet/CXR_png/MCUCXR_0058_0.png',\n",
       " './MontgomerySet/CXR_png/MCUCXR_0059_0.png',\n",
       " './MontgomerySet/CXR_png/MCUCXR_0060_0.png',\n",
       " './MontgomerySet/CXR_png/MCUCXR_0061_0.png',\n",
       " './MontgomerySet/CXR_png/MCUCXR_0062_0.png',\n",
       " './MontgomerySet/CXR_png/MCUCXR_0063_0.png',\n",
       " './MontgomerySet/CXR_png/MCUCXR_0064_0.png',\n",
       " './MontgomerySet/CXR_png/MCUCXR_0068_0.png',\n",
       " './MontgomerySet/CXR_png/MCUCXR_0069_0.png',\n",
       " './MontgomerySet/CXR_png/MCUCXR_0070_0.png',\n",
       " './MontgomerySet/CXR_png/MCUCXR_0071_0.png',\n",
       " './MontgomerySet/CXR_png/MCUCXR_0072_0.png',\n",
       " './MontgomerySet/CXR_png/MCUCXR_0074_0.png',\n",
       " './MontgomerySet/CXR_png/MCUCXR_0075_0.png',\n",
       " './MontgomerySet/CXR_png/MCUCXR_0077_0.png',\n",
       " './MontgomerySet/CXR_png/MCUCXR_0079_0.png',\n",
       " './MontgomerySet/CXR_png/MCUCXR_0080_0.png',\n",
       " './MontgomerySet/CXR_png/MCUCXR_0081_0.png',\n",
       " './MontgomerySet/CXR_png/MCUCXR_0082_0.png',\n",
       " './MontgomerySet/CXR_png/MCUCXR_0083_0.png',\n",
       " './MontgomerySet/CXR_png/MCUCXR_0084_0.png',\n",
       " './MontgomerySet/CXR_png/MCUCXR_0085_0.png',\n",
       " './MontgomerySet/CXR_png/MCUCXR_0086_0.png',\n",
       " './MontgomerySet/CXR_png/MCUCXR_0087_0.png',\n",
       " './MontgomerySet/CXR_png/MCUCXR_0089_0.png',\n",
       " './MontgomerySet/CXR_png/MCUCXR_0090_0.png',\n",
       " './MontgomerySet/CXR_png/MCUCXR_0091_0.png',\n",
       " './MontgomerySet/CXR_png/MCUCXR_0092_0.png',\n",
       " './MontgomerySet/CXR_png/MCUCXR_0094_0.png',\n",
       " './MontgomerySet/CXR_png/MCUCXR_0095_0.png',\n",
       " './MontgomerySet/CXR_png/MCUCXR_0096_0.png',\n",
       " './MontgomerySet/CXR_png/MCUCXR_0097_0.png',\n",
       " './MontgomerySet/CXR_png/MCUCXR_0099_0.png',\n",
       " './MontgomerySet/CXR_png/MCUCXR_0100_0.png',\n",
       " './MontgomerySet/CXR_png/MCUCXR_0101_0.png',\n",
       " './MontgomerySet/CXR_png/MCUCXR_0102_0.png',\n",
       " './MontgomerySet/CXR_png/MCUCXR_0103_0.png',\n",
       " './MontgomerySet/CXR_png/MCUCXR_0104_1.png',\n",
       " './MontgomerySet/CXR_png/MCUCXR_0108_1.png',\n",
       " './MontgomerySet/CXR_png/MCUCXR_0113_1.png',\n",
       " './MontgomerySet/CXR_png/MCUCXR_0117_1.png',\n",
       " './MontgomerySet/CXR_png/MCUCXR_0126_1.png',\n",
       " './MontgomerySet/CXR_png/MCUCXR_0140_1.png',\n",
       " './MontgomerySet/CXR_png/MCUCXR_0141_1.png',\n",
       " './MontgomerySet/CXR_png/MCUCXR_0142_1.png',\n",
       " './MontgomerySet/CXR_png/MCUCXR_0144_1.png',\n",
       " './MontgomerySet/CXR_png/MCUCXR_0150_1.png',\n",
       " './MontgomerySet/CXR_png/MCUCXR_0162_1.png',\n",
       " './MontgomerySet/CXR_png/MCUCXR_0166_1.png',\n",
       " './MontgomerySet/CXR_png/MCUCXR_0170_1.png',\n",
       " './MontgomerySet/CXR_png/MCUCXR_0173_1.png',\n",
       " './MontgomerySet/CXR_png/MCUCXR_0182_1.png',\n",
       " './MontgomerySet/CXR_png/MCUCXR_0188_1.png',\n",
       " './MontgomerySet/CXR_png/MCUCXR_0194_1.png',\n",
       " './MontgomerySet/CXR_png/MCUCXR_0195_1.png',\n",
       " './MontgomerySet/CXR_png/MCUCXR_0196_1.png',\n",
       " './MontgomerySet/CXR_png/MCUCXR_0203_1.png',\n",
       " './MontgomerySet/CXR_png/MCUCXR_0213_1.png',\n",
       " './MontgomerySet/CXR_png/MCUCXR_0218_1.png',\n",
       " './MontgomerySet/CXR_png/MCUCXR_0223_1.png',\n",
       " './MontgomerySet/CXR_png/MCUCXR_0228_1.png',\n",
       " './MontgomerySet/CXR_png/MCUCXR_0243_1.png',\n",
       " './MontgomerySet/CXR_png/MCUCXR_0251_1.png',\n",
       " './MontgomerySet/CXR_png/MCUCXR_0253_1.png',\n",
       " './MontgomerySet/CXR_png/MCUCXR_0254_1.png',\n",
       " './MontgomerySet/CXR_png/MCUCXR_0255_1.png',\n",
       " './MontgomerySet/CXR_png/MCUCXR_0258_1.png',\n",
       " './MontgomerySet/CXR_png/MCUCXR_0264_1.png',\n",
       " './MontgomerySet/CXR_png/MCUCXR_0266_1.png',\n",
       " './MontgomerySet/CXR_png/MCUCXR_0275_1.png',\n",
       " './MontgomerySet/CXR_png/MCUCXR_0282_1.png',\n",
       " './MontgomerySet/CXR_png/MCUCXR_0289_1.png',\n",
       " './MontgomerySet/CXR_png/MCUCXR_0294_1.png',\n",
       " './MontgomerySet/CXR_png/MCUCXR_0301_1.png',\n",
       " './MontgomerySet/CXR_png/MCUCXR_0309_1.png',\n",
       " './MontgomerySet/CXR_png/MCUCXR_0311_1.png',\n",
       " './MontgomerySet/CXR_png/MCUCXR_0313_1.png',\n",
       " './MontgomerySet/CXR_png/MCUCXR_0316_1.png',\n",
       " './MontgomerySet/CXR_png/MCUCXR_0331_1.png',\n",
       " './MontgomerySet/CXR_png/MCUCXR_0334_1.png',\n",
       " './MontgomerySet/CXR_png/MCUCXR_0338_1.png',\n",
       " './MontgomerySet/CXR_png/MCUCXR_0348_1.png',\n",
       " './MontgomerySet/CXR_png/MCUCXR_0350_1.png',\n",
       " './MontgomerySet/CXR_png/MCUCXR_0352_1.png',\n",
       " './MontgomerySet/CXR_png/MCUCXR_0354_1.png',\n",
       " './MontgomerySet/CXR_png/MCUCXR_0362_1.png',\n",
       " './MontgomerySet/CXR_png/MCUCXR_0367_1.png',\n",
       " './MontgomerySet/CXR_png/MCUCXR_0369_1.png',\n",
       " './MontgomerySet/CXR_png/MCUCXR_0372_1.png',\n",
       " './MontgomerySet/CXR_png/MCUCXR_0375_1.png',\n",
       " './MontgomerySet/CXR_png/MCUCXR_0383_1.png',\n",
       " './MontgomerySet/CXR_png/MCUCXR_0387_1.png',\n",
       " './MontgomerySet/CXR_png/MCUCXR_0390_1.png',\n",
       " './MontgomerySet/CXR_png/MCUCXR_0393_1.png',\n",
       " './MontgomerySet/CXR_png/MCUCXR_0399_1.png']"
      ]
     },
     "execution_count": 103,
     "metadata": {},
     "output_type": "execute_result"
    }
   ],
   "source": [
    "X = np.asarray(X)\n",
    "y_ =np.asarray(Y)\n",
    "fileNames"
   ]
  },
  {
   "cell_type": "code",
   "execution_count": 10,
   "metadata": {},
   "outputs": [],
   "source": [
    "def categorize_images(folder):\n",
    "    labels =np.zeros((138,), dtype =int)\n",
    "    for i,f in enumerate(folder):\n",
    "        labels[i] = 0\n",
    "        if i >= 80:\n",
    "            labels[i] = 1\n",
    "    return labels"
   ]
  },
  {
   "cell_type": "code",
   "execution_count": 61,
   "metadata": {},
   "outputs": [
    {
     "data": {
      "text/plain": [
       "(138, 2)"
      ]
     },
     "execution_count": 61,
     "metadata": {},
     "output_type": "execute_result"
    }
   ],
   "source": [
    "labels = categorize_images(fileNames)\n",
    "\n",
    "encoder = LabelEncoder()\n",
    "encoder.fit(labels)\n",
    "encoded_y = encoder.transform(labels)\n",
    "\n",
    "y = np_utils.to_categorical(encoded_y)\n",
    "y.shape"
   ]
  },
  {
   "cell_type": "code",
   "execution_count": 12,
   "metadata": {},
   "outputs": [],
   "source": [
    "#caption vectorization\n",
    "token_index ={}\n",
    "\n",
    "for sample in y_:\n",
    "    for word in sample.split():\n",
    "        if word not in token_index:\n",
    "            token_index[word] = len(token_index) + 1\n",
    "max_length = 100\n",
    "results = np.zeros(shape=(len(y_),max_length, max(token_index.values())+ 1))\n",
    "\n",
    "for i, sample in enumerate(y_):\n",
    "    for j, word in list(enumerate(sample.split()))[:max_length]:\n",
    "        index = token_index.get(word)\n",
    "        results[i,j,index] =1"
   ]
  },
  {
   "cell_type": "code",
   "execution_count": 13,
   "metadata": {},
   "outputs": [],
   "source": [
    "import sys\n",
    "def get_data(x):\n",
    "    InputX =[]\n",
    "    for filename in x:\n",
    "        img_file = cv2.imread(filename)\n",
    "        if img_file is not None:\n",
    "            img_file = cv2.cvtColor(img_file, cv2.COLOR_BGR2RGB)\n",
    "            img_file = scipy.misc.imresize(arr=img_file, size=(240, 320, 3))  \n",
    "            img_arr = np.asarray(img_file)\n",
    "            InputX.append(img_arr)\n",
    "    return InputX"
   ]
  },
  {
   "cell_type": "code",
   "execution_count": 14,
   "metadata": {},
   "outputs": [
    {
     "name": "stderr",
     "output_type": "stream",
     "text": [
      "/home/dronny/anaconda3/envs/tensorflow/lib/python3.6/site-packages/ipykernel_launcher.py:8: DeprecationWarning: `imresize` is deprecated!\n",
      "`imresize` is deprecated in SciPy 1.0.0, and will be removed in 1.2.0.\n",
      "Use ``skimage.transform.resize`` instead.\n",
      "  \n"
     ]
    }
   ],
   "source": [
    "input_x = np.asarray(get_data(fileNames))"
   ]
  },
  {
   "cell_type": "code",
   "execution_count": 100,
   "metadata": {},
   "outputs": [
    {
     "data": {
      "text/plain": [
       "<matplotlib.image.AxesImage at 0x7f8003601a20>"
      ]
     },
     "execution_count": 100,
     "metadata": {},
     "output_type": "execute_result"
    },
    {
     "data": {
      "image/png": "[encoded data removed]",
      "text/plain": [
       "<Figure size 432x288 with 1 Axes>"
      ]
     },
     "metadata": {
      "needs_background": "light"
     },
     "output_type": "display_data"
    }
   ],
   "source": [
    "plt.imshow((input_x[0]))"
   ]
  },
  {
   "cell_type": "code",
   "execution_count": 101,
   "metadata": {},
   "outputs": [
    {
     "data": {
      "text/plain": [
       "(138, 240, 320, 3)"
      ]
     },
     "execution_count": 101,
     "metadata": {},
     "output_type": "execute_result"
    }
   ],
   "source": [
    "input_x.shape"
   ]
  },
  {
   "cell_type": "code",
   "execution_count": 102,
   "metadata": {},
   "outputs": [],
   "source": [
    "X_train, X_test, y_train, y_test = train_test_split(input_x, y, test_size=0.2, random_state=10)"
   ]
  },
  {
   "cell_type": "code",
   "execution_count": 40,
   "metadata": {},
   "outputs": [],
   "source": [
    "datagen = ImageDataGenerator(\n",
    "    rotation_range=20,\n",
    "    width_shift_range=0.2,\n",
    "    height_shift_range=0.2,\n",
    "    horizontal_flip=True)"
   ]
  },
  {
   "cell_type": "code",
   "execution_count": 41,
   "metadata": {},
   "outputs": [],
   "source": [
    "\n",
    "train_generator = datagen.flow(\n",
    "        X_train,\n",
    "        y_train,\n",
    "    batch_size =batch_size\n",
    "     )\n",
    "\n",
    "validation_generator = datagen.flow(\n",
    "        X_test,\n",
    "        y_test,\n",
    "batch_size = batch_size)"
   ]
  },
  {
   "cell_type": "code",
   "execution_count": 42,
   "metadata": {},
   "outputs": [],
   "source": [
    "normal_test_samples = X_test[np.where(y_test ==0)]\n",
    "abnormal_test_samples = X_test[np.where(y_test ==1)]\n",
    "\n",
    "\n",
    "normal_train_samples = X_train[np.where(y_train ==0)]\n",
    "abnormal_train_samples = X_train[np.where(y_train ==1)]\n"
   ]
  },
  {
   "cell_type": "code",
   "execution_count": 84,
   "metadata": {},
   "outputs": [],
   "source": [
    "def sequence_image_generator(x, y, batch_size, generator, seq_len=4):\n",
    "    new_y = np.repeat(y, seq_len, axis = 0)\n",
    "    helper_flow = generator.flow(x.reshape((x.shape[0] * seq_len,\n",
    "                                            x.shape[2])),\n",
    "                                 new_y,\n",
    "                                 batch_size=seq_len * batch_size)\n",
    "    for x_temp, y_temp in helper_flow:\n",
    "        yield x_temp.reshape((int(x_temp.shape[0] / seq_len), \n",
    "                              seq_len, \n",
    "                              x.shape[2])), y_temp[::seq_len,:]"
   ]
  },
  {
   "cell_type": "code",
   "execution_count": 87,
   "metadata": {},
   "outputs": [],
   "source": [
    "datagen = ImageDataGenerator(\n",
    "     rotation_range=20,\n",
    "    fill_mode='constant',\n",
    "    height_shift_range=0.1,\n",
    "    width_shift_range=0.1,\n",
    "    horizontal_flip=True,\n",
    "    vertical_flip=True,\n",
    "    shear_range=0.2\n",
    ")"
   ]
  },
  {
   "cell_type": "code",
   "execution_count": 88,
   "metadata": {},
   "outputs": [],
   "source": [
    "test_generator = datagen.flow(\n",
    "        X_test,\n",
    "       y_test,\n",
    "        save_to_dir='./MontgomerySet/TEST/',\n",
    "       batch_size=1)\n",
    "\n",
    "train_generator = datagen.flow(\n",
    "        X_train,\n",
    "       y_train,\n",
    "        save_to_dir='./MontgomerySet/TRAIN/',\n",
    "       batch_size=1)"
   ]
  },
  {
   "cell_type": "code",
   "execution_count": 82,
   "metadata": {},
   "outputs": [],
   "source": [
    "test_generator=sequence_image_generator(X_test, y_test, batch_size, datagen)\n",
    "train_generator=sequence_image_generator(X_train, y_train, batch_size, datagen)"
   ]
  },
  {
   "cell_type": "code",
   "execution_count": 49,
   "metadata": {},
   "outputs": [],
   "source": [
    "normal_test_generator=sequence_image_generator(normal_test_samples, y_test[np.where(y_test == 0)], batch_size, datagen)\n",
    "\n",
    "abnormal_test_generator=sequence_image_generator(abnormal_test_samples, y_test[np.where(y_test == 1)], batch_size, datagen)\n",
    "\n",
    "normal_train_generator=sequence_image_generator(normal_train_samples, y_train[np.where(y_train == 0)], batch_size, datagen)\n",
    "\n",
    "abnormal_train_generator=sequence_image_generator(abnormal_train_samples, y_train[np.where(y_train == 1)], batch_size, datagen)"
   ]
  },
  {
   "cell_type": "code",
   "execution_count": 89,
   "metadata": {},
   "outputs": [],
   "source": [
    "for i in range(2500):\n",
    "    next(train_generator)\n",
    "    next(test_generator)"
   ]
  },
  {
   "cell_type": "code",
   "execution_count": null,
   "metadata": {},
   "outputs": [],
   "source": [
    "\n",
    "#normal_test_generator = datagen.flow(\n",
    "#        normal_test_samples,\n",
    " #       y_test[np.where(y_test == 0)],\n",
    "  #      save_to_dir='./MontgomerySet/TEST/NORMAL_SAMPLES',\n",
    "   #     batch_size=1)\n",
    "\n",
    "#abnormal_test_generator = datagen.flow(\n",
    " #       abnormal_test_samples,\n",
    "  #      y_test[np.where(y_test ==1)],\n",
    "   #     save_to_dir='./MontgomerySet/TEST/ABNORMAL_SAMPLES',\n",
    "     #   batch_size=1)\n",
    "\n",
    "#normal_train_generator = datagen.flow(\n",
    " #       normal_train_samples,\n",
    "  #      y_train[np.where(y_train == 0)],\n",
    "   #     save_to_dir='./MontgomerySet/TRAIN/NORMAL_SAMPLES',\n",
    "    #    batch_size=1)\n",
    "\n",
    "#abnormal_train_generator = datagen.flow(\n",
    " #       abnormal_train__samples,\n",
    "  #      y_train[np.where(y_train ==1)],\n",
    "   #     save_to_dir='./MontgomerySet/TRAIN/ABNORMAL_SAMPLES',\n",
    "    #    batch_size=1)"
   ]
  },
  {
   "cell_type": "code",
   "execution_count": 92,
   "metadata": {},
   "outputs": [],
   "source": [
    "def get_model():\n",
    "    model = Sequential()\n",
    "    model.add(Lambda(lambda x: x/127.5 - 1., input_shape=(240, 320, 3), output_shape=(240, 320, 3)))\n",
    "    model.add(Conv2D(32, (3, 3), input_shape=(240, 320, 3)))\n",
    "    model.add(Activation('relu'))\n",
    "    model.add(MaxPooling2D(pool_size=(2, 2)))\n",
    "\n",
    "    model.add(Conv2D(32, (3, 3)))\n",
    "    model.add(Activation('relu'))\n",
    "    model.add(MaxPooling2D(pool_size=(2, 2)))\n",
    "\n",
    "    model.add(Conv2D(64, (3, 3)))\n",
    "    model.add(Activation('relu'))\n",
    "    model.add(MaxPooling2D(pool_size=(2, 2)))\n",
    "\n",
    "    model.add(Flatten())  # this converts our 3D feature maps to 1D feature vectors\n",
    "    model.add(Dense(64))\n",
    "    model.add(Activation('relu'))\n",
    "    model.add(Dropout(0.5))\n",
    "    model.add(Dense(num_classes))\n",
    "    model.add(Activation('softmax'))\n",
    "\n",
    "    model.compile(loss='categorical_crossentropy',\n",
    "                optimizer='adam',\n",
    "                metrics=['accuracy'])\n",
    "\n",
    "    return model    "
   ]
  },
  {
   "cell_type": "code",
   "execution_count": null,
   "metadata": {},
   "outputs": [],
   "source": [
    "model = get_model()\n",
    "\n",
    "\n",
    "# fits the model on batches\n",
    "history =model.fit(\n",
    "    X_train,\n",
    "    y_train,\n",
    "    validation_split=0.2,\n",
    "    epochs=epochs,\n",
    "    shuffle=True,\n",
    "    batch_size=batch_size)\n",
    "\n",
    "model.save_weights('balanced_model.h5')"
   ]
  },
  {
   "cell_type": "code",
   "execution_count": 57,
   "metadata": {},
   "outputs": [
    {
     "data": {
      "image/png": "[encoded data removed]",
      "text/plain": [
       "<Figure size 432x288 with 1 Axes>"
      ]
     },
     "metadata": {
      "needs_background": "light"
     },
     "output_type": "display_data"
    },
    {
     "data": {
      "text/plain": [
       "<Figure size 432x288 with 0 Axes>"
      ]
     },
     "metadata": {},
     "output_type": "display_data"
    }
   ],
   "source": [
    "# summarize history for loss\n",
    "plt.plot(history.history['loss'])\n",
    "plt.plot(history.history['val_loss'])\n",
    "plt.title('model loss')\n",
    "plt.ylabel('loss')\n",
    "plt.xlabel('epoch')\n",
    "plt.legend(['train', 'test'], loc='upper right')\n",
    "plt.show()\n",
    "plt.savefig('model_loss_50epochs.png')"
   ]
  },
  {
   "cell_type": "code",
   "execution_count": 93,
   "metadata": {},
   "outputs": [
    {
     "name": "stdout",
     "output_type": "stream",
     "text": [
      "Epoch 1/50\n",
      "110/110 [==============================] - 20s 178ms/step - loss: 0.8138 - acc: 0.5636 - val_loss: 0.6924 - val_acc: 0.5714\n",
      "Epoch 2/50\n",
      "110/110 [==============================] - 19s 176ms/step - loss: 0.7011 - acc: 0.5364 - val_loss: 0.6884 - val_acc: 0.5714\n",
      "Epoch 3/50\n",
      "110/110 [==============================] - 20s 183ms/step - loss: 0.6905 - acc: 0.5909 - val_loss: 0.6902 - val_acc: 0.5357\n",
      "Epoch 4/50\n",
      "110/110 [==============================] - 21s 193ms/step - loss: 0.6825 - acc: 0.6091 - val_loss: 0.6656 - val_acc: 0.6786\n",
      "Epoch 5/50\n",
      "110/110 [==============================] - 22s 198ms/step - loss: 0.6930 - acc: 0.5273 - val_loss: 0.6853 - val_acc: 0.5714\n",
      "Epoch 6/50\n",
      "110/110 [==============================] - 22s 197ms/step - loss: 0.7022 - acc: 0.5727 - val_loss: 0.7735 - val_acc: 0.6786\n",
      "Epoch 7/50\n",
      "110/110 [==============================] - 22s 196ms/step - loss: 0.7180 - acc: 0.6000 - val_loss: 0.6940 - val_acc: 0.5714\n",
      "Epoch 8/50\n",
      "110/110 [==============================] - 24s 214ms/step - loss: 0.6825 - acc: 0.6000 - val_loss: 0.6579 - val_acc: 0.6429\n",
      "Epoch 9/50\n",
      "110/110 [==============================] - 22s 204ms/step - loss: 0.7051 - acc: 0.5182 - val_loss: 0.6766 - val_acc: 0.6071\n",
      "Epoch 10/50\n",
      "110/110 [==============================] - 22s 199ms/step - loss: 0.6691 - acc: 0.6000 - val_loss: 0.7368 - val_acc: 0.6071\n",
      "Epoch 11/50\n",
      "110/110 [==============================] - 19s 177ms/step - loss: 0.7289 - acc: 0.5636 - val_loss: 0.6423 - val_acc: 0.5714\n",
      "Epoch 12/50\n",
      "110/110 [==============================] - 19s 169ms/step - loss: 0.7049 - acc: 0.5545 - val_loss: 0.6846 - val_acc: 0.5714\n",
      "Epoch 13/50\n",
      "110/110 [==============================] - 19s 174ms/step - loss: 0.6829 - acc: 0.5909 - val_loss: 0.6541 - val_acc: 0.7143\n",
      "Epoch 14/50\n",
      "110/110 [==============================] - 18s 168ms/step - loss: 0.6835 - acc: 0.5636 - val_loss: 0.6833 - val_acc: 0.5714\n",
      "Epoch 15/50\n",
      "110/110 [==============================] - 19s 171ms/step - loss: 0.6949 - acc: 0.5364 - val_loss: 0.6754 - val_acc: 0.6071\n",
      "Epoch 16/50\n",
      "110/110 [==============================] - 19s 171ms/step - loss: 0.6794 - acc: 0.5909 - val_loss: 0.6906 - val_acc: 0.5357\n",
      "Epoch 17/50\n",
      "110/110 [==============================] - 19s 169ms/step - loss: 0.6906 - acc: 0.5455 - val_loss: 0.6603 - val_acc: 0.6786\n",
      "Epoch 18/50\n",
      "110/110 [==============================] - 18s 167ms/step - loss: 0.6795 - acc: 0.6000 - val_loss: 0.6869 - val_acc: 0.6071\n",
      "Epoch 19/50\n",
      "110/110 [==============================] - 19s 173ms/step - loss: 0.6874 - acc: 0.5727 - val_loss: 0.6525 - val_acc: 0.6429\n",
      "Epoch 20/50\n",
      "110/110 [==============================] - 19s 168ms/step - loss: 0.6799 - acc: 0.5909 - val_loss: 0.6831 - val_acc: 0.5714\n",
      "Epoch 21/50\n",
      "110/110 [==============================] - 21s 191ms/step - loss: 0.6966 - acc: 0.5273 - val_loss: 0.6671 - val_acc: 0.6429\n",
      "Epoch 22/50\n",
      "110/110 [==============================] - 19s 171ms/step - loss: 0.6640 - acc: 0.6455 - val_loss: 0.6930 - val_acc: 0.5357\n",
      "Epoch 23/50\n",
      "110/110 [==============================] - 21s 193ms/step - loss: 0.6955 - acc: 0.5364 - val_loss: 0.6640 - val_acc: 0.6429\n",
      "Epoch 24/50\n",
      "110/110 [==============================] - 21s 195ms/step - loss: 0.6793 - acc: 0.5727 - val_loss: 0.6943 - val_acc: 0.5357\n",
      "Epoch 25/50\n",
      "110/110 [==============================] - 23s 210ms/step - loss: 0.6750 - acc: 0.5727 - val_loss: 0.6782 - val_acc: 0.6071\n",
      "Epoch 26/50\n",
      "110/110 [==============================] - 19s 173ms/step - loss: 0.6926 - acc: 0.5636 - val_loss: 0.6649 - val_acc: 0.6429\n",
      "Epoch 27/50\n",
      "110/110 [==============================] - 20s 180ms/step - loss: 0.6911 - acc: 0.5545 - val_loss: 0.6827 - val_acc: 0.5714\n",
      "Epoch 28/50\n",
      "110/110 [==============================] - 19s 174ms/step - loss: 0.6789 - acc: 0.6091 - val_loss: 0.6544 - val_acc: 0.6786\n",
      "Epoch 29/50\n",
      "110/110 [==============================] - 19s 170ms/step - loss: 0.6816 - acc: 0.5727 - val_loss: 0.6718 - val_acc: 0.6071\n",
      "Epoch 30/50\n",
      "110/110 [==============================] - 18s 166ms/step - loss: 0.6906 - acc: 0.5818 - val_loss: 0.7208 - val_acc: 0.6071\n",
      "Epoch 31/50\n",
      "110/110 [==============================] - 19s 169ms/step - loss: 0.7204 - acc: 0.5273 - val_loss: 0.6837 - val_acc: 0.5714\n",
      "Epoch 32/50\n",
      "110/110 [==============================] - 18s 168ms/step - loss: 0.6801 - acc: 0.5909 - val_loss: 0.6665 - val_acc: 0.6429\n",
      "Epoch 33/50\n",
      "110/110 [==============================] - 19s 169ms/step - loss: 0.6829 - acc: 0.5818 - val_loss: 0.6831 - val_acc: 0.5714\n",
      "Epoch 34/50\n",
      "110/110 [==============================] - 18s 168ms/step - loss: 0.6792 - acc: 0.5818 - val_loss: 0.6830 - val_acc: 0.5714\n",
      "Epoch 35/50\n",
      "110/110 [==============================] - 19s 170ms/step - loss: 0.6796 - acc: 0.5818 - val_loss: 0.6626 - val_acc: 0.6429\n",
      "Epoch 36/50\n",
      "110/110 [==============================] - 19s 170ms/step - loss: 0.6920 - acc: 0.5455 - val_loss: 0.6733 - val_acc: 0.6071\n",
      "Epoch 37/50\n",
      "110/110 [==============================] - 19s 177ms/step - loss: 0.6816 - acc: 0.5818 - val_loss: 0.6829 - val_acc: 0.5714\n",
      "Epoch 38/50\n",
      "110/110 [==============================] - 19s 173ms/step - loss: 0.6896 - acc: 0.5545 - val_loss: 0.6736 - val_acc: 0.6071\n",
      "Epoch 39/50\n",
      "110/110 [==============================] - 19s 172ms/step - loss: 0.6874 - acc: 0.5636 - val_loss: 0.6647 - val_acc: 0.6429\n",
      "Epoch 40/50\n",
      "110/110 [==============================] - 20s 178ms/step - loss: 0.6688 - acc: 0.6273 - val_loss: 0.6723 - val_acc: 0.6071\n",
      "Epoch 41/50\n",
      "110/110 [==============================] - 19s 171ms/step - loss: 0.6966 - acc: 0.5273 - val_loss: 0.6735 - val_acc: 0.6071\n",
      "Epoch 42/50\n",
      "110/110 [==============================] - 20s 178ms/step - loss: 0.6823 - acc: 0.5727 - val_loss: 0.6734 - val_acc: 0.6071\n",
      "Epoch 43/50\n",
      "110/110 [==============================] - 23s 208ms/step - loss: 0.6902 - acc: 0.5545 - val_loss: 0.6921 - val_acc: 0.5357\n",
      "Epoch 44/50\n",
      "110/110 [==============================] - 20s 181ms/step - loss: 0.6773 - acc: 0.5909 - val_loss: 0.6544 - val_acc: 0.6786\n",
      "Epoch 45/50\n",
      "110/110 [==============================] - 20s 185ms/step - loss: 0.6615 - acc: 0.6455 - val_loss: 0.6714 - val_acc: 0.6071\n",
      "Epoch 46/50\n",
      "110/110 [==============================] - 24s 216ms/step - loss: 0.7051 - acc: 0.4909 - val_loss: 0.6634 - val_acc: 0.6429\n",
      "Epoch 47/50\n",
      "110/110 [==============================] - 21s 187ms/step - loss: 0.6745 - acc: 0.6091 - val_loss: 0.7040 - val_acc: 0.5000\n",
      "Epoch 48/50\n",
      "110/110 [==============================] - 21s 193ms/step - loss: 0.6972 - acc: 0.5273 - val_loss: 0.6553 - val_acc: 0.6786\n",
      "Epoch 49/50\n",
      "110/110 [==============================] - 20s 182ms/step - loss: 0.6679 - acc: 0.6273 - val_loss: 0.6830 - val_acc: 0.5714\n",
      "Epoch 50/50\n",
      "110/110 [==============================] - 20s 185ms/step - loss: 0.6896 - acc: 0.5545 - val_loss: 0.6829 - val_acc: 0.5714\n"
     ]
    }
   ],
   "source": [
    "model = get_model()\n",
    "generator_history=model.fit_generator(\n",
    "    train_generator,\n",
    "    steps_per_epoch=len(X_train),\n",
    "    validation_data=test_generator,\n",
    "    validation_steps=len(X_test),\n",
    "    epochs=epochs)\n",
    "model.save_weights('mask_1.h5') "
   ]
  },
  {
   "cell_type": "code",
   "execution_count": 94,
   "metadata": {},
   "outputs": [
    {
     "data": {
      "image/png": "[encoded data removed]",
      "text/plain": [
       "<Figure size 432x288 with 1 Axes>"
      ]
     },
     "metadata": {
      "needs_background": "light"
     },
     "output_type": "display_data"
    },
    {
     "data": {
      "text/plain": [
       "<Figure size 432x288 with 0 Axes>"
      ]
     },
     "metadata": {},
     "output_type": "display_data"
    }
   ],
   "source": [
    "# summarize history for loss\n",
    "plt.plot(generator_history.history['loss'])\n",
    "plt.plot(generator_history.history['val_loss'])\n",
    "plt.title('model loss')\n",
    "plt.ylabel('loss')\n",
    "plt.xlabel('epoch')\n",
    "plt.legend(['train', 'test'], loc='upper right')\n",
    "plt.show()\n",
    "plt.savefig('model_loss_50epochs.png')"
   ]
  },
  {
   "cell_type": "code",
   "execution_count": 95,
   "metadata": {},
   "outputs": [
    {
     "name": "stdout",
     "output_type": "stream",
     "text": [
      "Predicting on test data\n",
      "0.6071428571428571\n"
     ]
    }
   ],
   "source": [
    "from sklearn.metrics import accuracy_score\n",
    "\n",
    "print('Predicting on test data')\n",
    "y_pred = np.rint(model.predict(X_test))\n",
    "\n",
    "print(accuracy_score(y_test, y_pred))"
   ]
  },
  {
   "cell_type": "code",
   "execution_count": 96,
   "metadata": {},
   "outputs": [
    {
     "name": "stdout",
     "output_type": "stream",
     "text": [
      "[[17  0]\n",
      " [11  0]]\n"
     ]
    }
   ],
   "source": [
    "from sklearn.metrics import confusion_matrix\n",
    "\n",
    "y_pred_unencoded = np.argmax(y_pred, axis=1)\n",
    "y_test_unencoded = np.argmax(y_test, axis=1)\n",
    "\n",
    "print(confusion_matrix(y_test_unencoded, y_pred_unencoded))"
   ]
  },
  {
   "cell_type": "code",
   "execution_count": null,
   "metadata": {},
   "outputs": [],
   "source": []
  }
 ],
 "metadata": {
  "kernelspec": {
   "display_name": "Python 3",
   "language": "python",
   "name": "python3"
  },
  "language_info": {
   "codemirror_mode": {
    "name": "ipython",
    "version": 3
   },
   "file_extension": ".py",
   "mimetype": "text/x-python",
   "name": "python",
   "nbconvert_exporter": "python",
   "pygments_lexer": "ipython3",
   "version": "3.6.6"
  }
 },
 "nbformat": 4,
 "nbformat_minor": 2
}
