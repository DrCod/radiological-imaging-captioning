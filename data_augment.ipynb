{
 "cells": [
  {
   "cell_type": "code",
   "execution_count": 5,
   "metadata": {},
   "outputs": [],
   "source": [
    "                                                                                                                                                                                                                                                                                                                                                                                                                                                                                                                                                                                                                                                                                                                                                                                                                                                                                                                                                                                                                                                                                                                                                                                                                                                                                                                                                                                                                                                                                                                                                                                                                                                                                                                                                                                                                                                                                                                                                                                                                                                                                                                                                                                                                                                                                                                                                                                                                                                                                                                                                                                                                                                                                                                                                                                                                                                                                                                                                                                                                                                                                                                                                                                                                                                                                                                                                                                                                                                                                                                                                                                                                                                                                                                                                                                                                                                                                                                                                                                                                                                                                                                                                                                                                                                                                                                                                                                                                                                                                                                                                                                                                                                                                                                                                                                                                                                                                                                                                                                                                                                                                                                                                                                                                                                                                                                                                                                                                                                                                                                                                                                                                                                                                                                                                                                                                                                                                                                                                                                                                                                                                                                                                                                                                                                                                                                                                                                                                                                                                                                                                                                                                                                                                                                                                                                                                                                                                                                                                                                                                                                                                                                                                                                                                                                                                                                                                                                                                                                                                                                                                                                                                                                                                                                                                                                                                                                                                                                                                                                                                                                                                                                                                                                                                                                                                                                                                                                                                                                                                                                                                                                                                                                                                                                                                                                                                                                                                                                                                                                                                                                                                                                                                                                                                                                                                                                                                                                                                                                                                                                                                                                                                                                                                                                                                                                                                                                                                                                                                                                                                                                                                                                                                                                                                                                                                                                                                                                                                                                                                                                                                                                                                                                                                                                        import os\n",
    "os.environ['KERAS_BACKEND'] = 'tensorflow'"
   ]
  },
  {
   "cell_type": "code",
   "execution_count": 6,
   "metadata": {},
   "outputs": [
    {
     "name": "stderr",
     "output_type": "stream",
     "text": [
      "Using TensorFlow backend.\n"
     ]
    }
   ],
   "source": [
    "\n",
    "from __future__ import absolute_import\n",
    "from __future__ import print_function\n",
    "import pylab as pl\n",
    "import matplotlib.cm as cm\n",
    "import itertools\n",
    "import numpy as np\n",
    "import csv\n",
    "np.random.seed(1337) # for reproducibility\n",
    "\n",
    "from keras.layers.noise import GaussianNoise\n",
    "import keras.models as models\n",
    "from keras.layers.core import Layer, Dense, Dropout, Activation, Flatten, Reshape\n",
    "from keras.layers.convolutional import Convolution2D, MaxPooling2D, UpSampling2D, ZeroPadding2D\n",
    "from keras.layers.normalization import BatchNormalization\n",
    "from keras.utils import np_utils\n",
    "\n",
    "from keras import backend as K\n",
    "\n",
    "import cv2\n",
    "import numpy as np\n",
    "import pandas as pd"
   ]
  },
  {
   "cell_type": "code",
   "execution_count": 7,
   "metadata": {},
   "outputs": [],
   "source": [
    "#load datasets\n",
    "DATASETS_PATH = \"./MontgomerySet/CXR_png/\"\n",
    "\n",
    "PREFIX = \"MCUCXR_\"\n",
    "SUFFICES = [ \"_0.png\",\"_1.png\"]\n",
    "def get_image_filename(index):\n",
    "    num_zeros = 4-len(str(index))\n",
    "    if(index < 104):\n",
    "        img_path = PREFIX + \"0\"*num_zeros + str(index) + SUFFICES[0]\n",
    "    else:\n",
    "        img_path = PREFIX + \"0\"*num_zeros + str(index) + SUFFICES[1]\n",
    "    return (DATASETS_PATH + img_path)"
   ]
  },
  {
   "cell_type": "code",
   "execution_count": 8,
   "metadata": {},
   "outputs": [
    {
     "data": {
      "text/plain": [
       "'./MontgomerySet/CXR_png/MCUCXR_0001_0.png'"
      ]
     },
     "execution_count": 8,
     "metadata": {},
     "output_type": "execute_result"
    }
   ],
   "source": [
    "get_image_filename(1)"
   ]
  },
  {
   "cell_type": "code",
   "execution_count": 9,
   "metadata": {},
   "outputs": [
    {
     "data": {
      "text/plain": [
       "'./MontgomerySet/CXR_png/MCUCXR_0104_1.png'"
      ]
     },
     "execution_count": 9,
     "metadata": {},
     "output_type": "execute_result"
    }
   ],
   "source": [
    "get_image_filename(104)"
   ]
  },
  {
   "cell_type": "code",
   "execution_count": 11,
   "metadata": {},
   "outputs": [],
   "source": [
    "CAPTIONS_PATH = \"./MontgomerySet/ClinicalReadings/\"\n",
    "\n",
    "caption_list = os.listdir(CAPTIONS_PATH)\n",
    "\n",
    "captions =[]\n",
    "for fname in caption_list:\n",
    "    with open(os.path.join(CAPTIONS_PATH,fname)) as f:\n",
    "            lines = f.read().splitlines(True)\n",
    "            caption =lines[-1]\n",
    "            captions.append(caption[:-1])\n",
    "    f.close()\n",
    "captions = np.asarray(captions)\n",
    "pd.DataFrame(captions).to_csv(\"./MontgomerySet/Captions.csv\")"
   ]
  },
  {
   "cell_type": "code",
   "execution_count": 19,
   "metadata": {},
   "outputs": [
    {
     "name": "stdout",
     "output_type": "stream",
     "text": [
      "No file found ./MontgomerySet/CXR_png/MCUCXR_0000_0.png\n",
      "No file found ./MontgomerySet/CXR_png/MCUCXR_0007_0.png\n",
      "No file found ./MontgomerySet/CXR_png/MCUCXR_0009_0.png\n",
      "No file found ./MontgomerySet/CXR_png/MCUCXR_0010_0.png\n",
      "No file found ./MontgomerySet/CXR_png/MCUCXR_0012_0.png\n",
      "No file found ./MontgomerySet/CXR_png/MCUCXR_0014_0.png\n",
      "No file found ./MontgomerySet/CXR_png/MCUCXR_0018_0.png\n",
      "No file found ./MontgomerySet/CXR_png/MCUCXR_0025_0.png\n",
      "No file found ./MontgomerySet/CXR_png/MCUCXR_0032_0.png\n",
      "No file found ./MontgomerySet/CXR_png/MCUCXR_0033_0.png\n",
      "No file found ./MontgomerySet/CXR_png/MCUCXR_0034_0.png\n",
      "No file found ./MontgomerySet/CXR_png/MCUCXR_0036_0.png\n",
      "No file found ./MontgomerySet/CXR_png/MCUCXR_0037_0.png\n",
      "No file found ./MontgomerySet/CXR_png/MCUCXR_0039_0.png\n",
      "No file found ./MontgomerySet/CXR_png/MCUCXR_0050_0.png\n",
      "No file found ./MontgomerySet/CXR_png/MCUCXR_0065_0.png\n",
      "No file found ./MontgomerySet/CXR_png/MCUCXR_0066_0.png\n",
      "No file found ./MontgomerySet/CXR_png/MCUCXR_0067_0.png\n",
      "No file found ./MontgomerySet/CXR_png/MCUCXR_0073_0.png\n",
      "No file found ./MontgomerySet/CXR_png/MCUCXR_0076_0.png\n",
      "No file found ./MontgomerySet/CXR_png/MCUCXR_0078_0.png\n",
      "No file found ./MontgomerySet/CXR_png/MCUCXR_0088_0.png\n",
      "No file found ./MontgomerySet/CXR_png/MCUCXR_0093_0.png\n",
      "No file found ./MontgomerySet/CXR_png/MCUCXR_0098_0.png\n",
      "No file found ./MontgomerySet/CXR_png/MCUCXR_0105_1.png\n",
      "No file found ./MontgomerySet/CXR_png/MCUCXR_0106_1.png\n",
      "No file found ./MontgomerySet/CXR_png/MCUCXR_0107_1.png\n",
      "No file found ./MontgomerySet/CXR_png/MCUCXR_0109_1.png\n",
      "No file found ./MontgomerySet/CXR_png/MCUCXR_0110_1.png\n",
      "No file found ./MontgomerySet/CXR_png/MCUCXR_0111_1.png\n",
      "No file found ./MontgomerySet/CXR_png/MCUCXR_0112_1.png\n",
      "No file found ./MontgomerySet/CXR_png/MCUCXR_0114_1.png\n",
      "No file found ./MontgomerySet/CXR_png/MCUCXR_0115_1.png\n",
      "No file found ./MontgomerySet/CXR_png/MCUCXR_0116_1.png\n",
      "No file found ./MontgomerySet/CXR_png/MCUCXR_0118_1.png\n",
      "No file found ./MontgomerySet/CXR_png/MCUCXR_0119_1.png\n",
      "No file found ./MontgomerySet/CXR_png/MCUCXR_0120_1.png\n",
      "No file found ./MontgomerySet/CXR_png/MCUCXR_0121_1.png\n",
      "No file found ./MontgomerySet/CXR_png/MCUCXR_0122_1.png\n",
      "No file found ./MontgomerySet/CXR_png/MCUCXR_0123_1.png\n",
      "No file found ./MontgomerySet/CXR_png/MCUCXR_0124_1.png\n",
      "No file found ./MontgomerySet/CXR_png/MCUCXR_0125_1.png\n",
      "No file found ./MontgomerySet/CXR_png/MCUCXR_0127_1.png\n",
      "No file found ./MontgomerySet/CXR_png/MCUCXR_0128_1.png\n",
      "No file found ./MontgomerySet/CXR_png/MCUCXR_0129_1.png\n",
      "No file found ./MontgomerySet/CXR_png/MCUCXR_0130_1.png\n",
      "No file found ./MontgomerySet/CXR_png/MCUCXR_0131_1.png\n",
      "No file found ./MontgomerySet/CXR_png/MCUCXR_0132_1.png\n",
      "No file found ./MontgomerySet/CXR_png/MCUCXR_0133_1.png\n",
      "No file found ./MontgomerySet/CXR_png/MCUCXR_0134_1.png\n",
      "No file found ./MontgomerySet/CXR_png/MCUCXR_0135_1.png\n",
      "No file found ./MontgomerySet/CXR_png/MCUCXR_0136_1.png\n",
      "No file found ./MontgomerySet/CXR_png/MCUCXR_0137_1.png\n",
      "No file found ./MontgomerySet/CXR_png/MCUCXR_0138_1.png\n"
     ]
    }
   ],
   "source": [
    "BASE_PATH = \"./MontgomerySet/\"\n",
    "\n",
    "reader = csv.reader(open(BASE_PATH + 'Captions.csv'))\n",
    "X =[]\n",
    "Y =[]\n",
    "\n",
    "for i,row in enumerate(reader):\n",
    "    if len(row) > 0:\n",
    "        filename = get_image_filename(i)\n",
    "        img_file = cv2.imread(filename)\n",
    "        if img_file is not None:\n",
    "            img_file = cv2.cvtColor(img_file, cv2.COLOR_BGR2RGB)\n",
    "            img_arr = np.asarray(img_file)\n",
    "            X.append(img_arr)\n",
    "            Y.append(row[1])\n",
    "        else:\n",
    "            print(\"No file found\", filename)"
   ]
  },
  {
   "cell_type": "code",
   "execution_count": null,
   "metadata": {},
   "outputs": [],
   "source": [
    "X = np.asarray(X)\n",
    "y =np.asarray(Y)"
   ]
  },
  {
   "cell_type": "code",
   "execution_count": 24,
   "metadata": {},
   "outputs": [],
   "source": [
    "def categorize_images(folder):\n",
    "    labels =np.zeros((138,), dtype =int)\n",
    "    for i,f in enumerate(os.listdir(folder)):\n",
    "        labels[i] = 0\n",
    "        if i >= 104:\n",
    "            labels[i] = 1\n",
    "    return labels"
   ]
  },
  {
   "cell_type": "code",
   "execution_count": 26,
   "metadata": {},
   "outputs": [
    {
     "data": {
      "text/plain": [
       "(138,)"
      ]
     },
     "execution_count": 26,
     "metadata": {},
     "output_type": "execute_result"
    }
   ],
   "source": [
    "labels = categorize_images(DATASETS_PATH)\n",
    "labels.shape"
   ]
  },
  {
   "cell_type": "code",
   "execution_count": null,
   "metadata": {},
   "outputs": [],
   "source": [
    "#caption vectorization\n",
    "token_index ={}\n",
    "\n",
    "for sample in y:\n",
    "    for word in sample.split():\n",
    "        if word not in token_index:\n",
    "            token_index[word] = len(token_index) + 1\n",
    "max_length = 100\n",
    "results = np.zeros(shape=(len(y),max_length, max(token_index.values())+ 1))\n",
    "\n",
    "for i, sample in enumerate(y):\n",
    "    for j, word in list(enumerate(sample.split()))[:max_length]:\n",
    "        index = token_index.get(word)\n",
    "        results[i,j,index] =1"
   ]
  },
  {
   "cell_type": "code",
   "execution_count": 30,
   "metadata": {},
   "outputs": [],
   "source": [
    "def get_data(folder,ys):\n",
    "    X = []\n",
    "    y = ys\n",
    "\n",
    "    for l in y:\n",
    "        if l==1:\n",
    "            end_file = str(l)+\".png\"\n",
    "        else:\n",
    "            end_file = str(l)+\".png\"\n",
    "        for image_filename in os.listdir(folder):\n",
    "                img_file = cv2.imread(folder  + image_filename)\n",
    "                if img_file is not None:\n",
    "                    img_arr = np.asarray(img_file)\n",
    "                    X.append(img_arr)\n",
    "    X = np.asarray(X)\n",
    "    return X,y"
   ]
  },
  {
   "cell_type": "code",
   "execution_count": null,
   "metadata": {},
   "outputs": [],
   "source": [
    "FOLDER =\"./MontgomerySet/CXR_png/\"\n",
    "get_data(FOLDER,labels)"
   ]
  },
  {
   "cell_type": "code",
   "execution_count": null,
   "metadata": {},
   "outputs": [],
   "source": []
  }
 ],
 "metadata": {
  "kernelspec": {
   "display_name": "Python 3",
   "language": "python",
   "name": "python3"
  },
  "language_info": {
   "codemirror_mode": {
    "name": "ipython",
    "version": 3
   },
   "file_extension": ".py",
   "mimetype": "text/x-python",
   "name": "python",
   "nbconvert_exporter": "python",
   "pygments_lexer": "ipython3",
   "version": "3.6.6"
  }
 },
 "nbformat": 4,
 "nbformat_minor": 2
}
