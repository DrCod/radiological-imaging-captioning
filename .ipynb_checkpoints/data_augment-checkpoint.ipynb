{
 "cells": [
  {
   "cell_type": "code",
   "execution_count": 4,
   "metadata": {},
   "outputs": [],
   "source": [
    "import os\n",
    "os.environ['KERAS_BACKEND'] = 'tensorflow'"
   ]
  },
  {
   "cell_type": "code",
   "execution_count": 5,
   "metadata": {},
   "outputs": [],
   "source": [
    "\n",
    "from __future__ import absolute_import\n",
    "from __future__ import print_function\n",
    "import pylab as pl\n",
    "import matplotlib.cm as cm\n",
    "import itertools\n",
    "import numpy as np\n",
    "import csv\n",
    "np.random.seed(1337) # for reproducibility\n",
    "\n",
    "from keras.layers.noise import GaussianNoise\n",
    "import keras.models as models\n",
    "from keras.layers.core import Layer, Dense, Dropout, Activation, Flatten, Reshape\n",
    "from keras.layers.convolutional import Convolution2D, MaxPooling2D, UpSampling2D, ZeroPadding2D\n",
    "from keras.layers.normalization import BatchNormalization\n",
    "from keras.utils import np_utils\n",
    "\n",
    "from keras import backend as K\n",
    "\n",
    "import cv2\n",
    "import numpy as np\n",
    "import os\n",
    "import scipy\n",
    "import pandas as pd"
   ]
  },
  {
   "cell_type": "code",
   "execution_count": 6,
   "metadata": {},
   "outputs": [],
   "source": [
    "#load datasets\n",
    "DATASETS_PATH = \"./MontgomerySet/CXR_png/\"\n",
    "\n",
    "PREFIX = \"MCUCXR_\"\n",
    "SUFFIX = \"_0.png\"\n",
    "\n",
    "def get_image_filename(index):\n",
    "    num_zeros = 4-len(str(index))\n",
    "    img_path = PREFIX + \"0\"*num_zeros + str(index) + SUFFIX\n",
    "    return (DATASETS_PATH + img_path)"
   ]
  },
  {
   "cell_type": "code",
   "execution_count": 7,
   "metadata": {},
   "outputs": [
    {
     "data": {
      "text/plain": [
       "'./MontgomerySet/CXR_png/MCUCXR_0001_0.png'"
      ]
     },
     "execution_count": 7,
     "metadata": {},
     "output_type": "execute_result"
    }
   ],
   "source": [
    "get_image(1)"
   ]
  },
  {
   "cell_type": "code",
   "execution_count": 8,
   "metadata": {},
   "outputs": [
    {
     "data": {
      "text/plain": [
       "'./MontgomerySet/CXR_png/MCUCXR_0011_0.png'"
      ]
     },
     "execution_count": 8,
     "metadata": {},
     "output_type": "execute_result"
    }
   ],
   "source": [
    "get_image(11)"
   ]
  },
  {
   "cell_type": "code",
   "execution_count": 9,
   "metadata": {},
   "outputs": [],
   "source": [
    "LABELS_PATH = \"./MontgomerySet/ClinicalReadings/\"\n",
    "\n",
    "label_list = os.listdir(LABELS_PATH)\n",
    "\n",
    "labels =[]\n",
    "for fname in label_list:\n",
    "    with open(os.path.join(LABELS_PATH,fname)) as f:\n",
    "            lines = f.read().splitlines(True)\n",
    "            caption =lines[-1]\n",
    "            labels.append(caption[:-1])\n",
    "    f.close()\n",
    "labels = np.asarray(labels)\n",
    "pd.DataFrame(labels).to_csv(\"./MontgomerySet/Labels.csv\")"
   ]
  },
  {
   "cell_type": "code",
   "execution_count": 10,
   "metadata": {},
   "outputs": [
    {
     "name": "stdout",
     "output_type": "stream",
     "text": [
      "No file found ./MontgomerySet/./MontgomerySet/CXR_png/MCUCXR_0000_0.png\n",
      "No file found ./MontgomerySet/./MontgomerySet/CXR_png/MCUCXR_0001_0.png\n",
      "No file found ./MontgomerySet/./MontgomerySet/CXR_png/MCUCXR_0002_0.png\n",
      "No file found ./MontgomerySet/./MontgomerySet/CXR_png/MCUCXR_0003_0.png\n",
      "No file found ./MontgomerySet/./MontgomerySet/CXR_png/MCUCXR_0004_0.png\n",
      "No file found ./MontgomerySet/./MontgomerySet/CXR_png/MCUCXR_0005_0.png\n",
      "No file found ./MontgomerySet/./MontgomerySet/CXR_png/MCUCXR_0006_0.png\n",
      "No file found ./MontgomerySet/./MontgomerySet/CXR_png/MCUCXR_0007_0.png\n",
      "No file found ./MontgomerySet/./MontgomerySet/CXR_png/MCUCXR_0008_0.png\n",
      "No file found ./MontgomerySet/./MontgomerySet/CXR_png/MCUCXR_0009_0.png\n",
      "No file found ./MontgomerySet/./MontgomerySet/CXR_png/MCUCXR_0010_0.png\n",
      "No file found ./MontgomerySet/./MontgomerySet/CXR_png/MCUCXR_0011_0.png\n",
      "No file found ./MontgomerySet/./MontgomerySet/CXR_png/MCUCXR_0012_0.png\n",
      "No file found ./MontgomerySet/./MontgomerySet/CXR_png/MCUCXR_0013_0.png\n",
      "No file found ./MontgomerySet/./MontgomerySet/CXR_png/MCUCXR_0014_0.png\n",
      "No file found ./MontgomerySet/./MontgomerySet/CXR_png/MCUCXR_0015_0.png\n",
      "No file found ./MontgomerySet/./MontgomerySet/CXR_png/MCUCXR_0016_0.png\n",
      "No file found ./MontgomerySet/./MontgomerySet/CXR_png/MCUCXR_0017_0.png\n",
      "No file found ./MontgomerySet/./MontgomerySet/CXR_png/MCUCXR_0018_0.png\n",
      "No file found ./MontgomerySet/./MontgomerySet/CXR_png/MCUCXR_0019_0.png\n",
      "No file found ./MontgomerySet/./MontgomerySet/CXR_png/MCUCXR_0020_0.png\n",
      "No file found ./MontgomerySet/./MontgomerySet/CXR_png/MCUCXR_0021_0.png\n",
      "No file found ./MontgomerySet/./MontgomerySet/CXR_png/MCUCXR_0022_0.png\n",
      "No file found ./MontgomerySet/./MontgomerySet/CXR_png/MCUCXR_0023_0.png\n",
      "No file found ./MontgomerySet/./MontgomerySet/CXR_png/MCUCXR_0024_0.png\n",
      "No file found ./MontgomerySet/./MontgomerySet/CXR_png/MCUCXR_0025_0.png\n",
      "No file found ./MontgomerySet/./MontgomerySet/CXR_png/MCUCXR_0026_0.png\n",
      "No file found ./MontgomerySet/./MontgomerySet/CXR_png/MCUCXR_0027_0.png\n",
      "No file found ./MontgomerySet/./MontgomerySet/CXR_png/MCUCXR_0028_0.png\n",
      "No file found ./MontgomerySet/./MontgomerySet/CXR_png/MCUCXR_0029_0.png\n",
      "No file found ./MontgomerySet/./MontgomerySet/CXR_png/MCUCXR_0030_0.png\n",
      "No file found ./MontgomerySet/./MontgomerySet/CXR_png/MCUCXR_0031_0.png\n",
      "No file found ./MontgomerySet/./MontgomerySet/CXR_png/MCUCXR_0032_0.png\n",
      "No file found ./MontgomerySet/./MontgomerySet/CXR_png/MCUCXR_0033_0.png\n",
      "No file found ./MontgomerySet/./MontgomerySet/CXR_png/MCUCXR_0034_0.png\n",
      "No file found ./MontgomerySet/./MontgomerySet/CXR_png/MCUCXR_0035_0.png\n",
      "No file found ./MontgomerySet/./MontgomerySet/CXR_png/MCUCXR_0036_0.png\n",
      "No file found ./MontgomerySet/./MontgomerySet/CXR_png/MCUCXR_0037_0.png\n",
      "No file found ./MontgomerySet/./MontgomerySet/CXR_png/MCUCXR_0038_0.png\n",
      "No file found ./MontgomerySet/./MontgomerySet/CXR_png/MCUCXR_0039_0.png\n",
      "No file found ./MontgomerySet/./MontgomerySet/CXR_png/MCUCXR_0040_0.png\n",
      "No file found ./MontgomerySet/./MontgomerySet/CXR_png/MCUCXR_0041_0.png\n",
      "No file found ./MontgomerySet/./MontgomerySet/CXR_png/MCUCXR_0042_0.png\n",
      "No file found ./MontgomerySet/./MontgomerySet/CXR_png/MCUCXR_0043_0.png\n",
      "No file found ./MontgomerySet/./MontgomerySet/CXR_png/MCUCXR_0044_0.png\n",
      "No file found ./MontgomerySet/./MontgomerySet/CXR_png/MCUCXR_0045_0.png\n",
      "No file found ./MontgomerySet/./MontgomerySet/CXR_png/MCUCXR_0046_0.png\n",
      "No file found ./MontgomerySet/./MontgomerySet/CXR_png/MCUCXR_0047_0.png\n",
      "No file found ./MontgomerySet/./MontgomerySet/CXR_png/MCUCXR_0048_0.png\n",
      "No file found ./MontgomerySet/./MontgomerySet/CXR_png/MCUCXR_0049_0.png\n",
      "No file found ./MontgomerySet/./MontgomerySet/CXR_png/MCUCXR_0050_0.png\n",
      "No file found ./MontgomerySet/./MontgomerySet/CXR_png/MCUCXR_0051_0.png\n",
      "No file found ./MontgomerySet/./MontgomerySet/CXR_png/MCUCXR_0052_0.png\n",
      "No file found ./MontgomerySet/./MontgomerySet/CXR_png/MCUCXR_0053_0.png\n",
      "No file found ./MontgomerySet/./MontgomerySet/CXR_png/MCUCXR_0054_0.png\n",
      "No file found ./MontgomerySet/./MontgomerySet/CXR_png/MCUCXR_0055_0.png\n",
      "No file found ./MontgomerySet/./MontgomerySet/CXR_png/MCUCXR_0056_0.png\n",
      "No file found ./MontgomerySet/./MontgomerySet/CXR_png/MCUCXR_0057_0.png\n",
      "No file found ./MontgomerySet/./MontgomerySet/CXR_png/MCUCXR_0058_0.png\n",
      "No file found ./MontgomerySet/./MontgomerySet/CXR_png/MCUCXR_0059_0.png\n",
      "No file found ./MontgomerySet/./MontgomerySet/CXR_png/MCUCXR_0060_0.png\n",
      "No file found ./MontgomerySet/./MontgomerySet/CXR_png/MCUCXR_0061_0.png\n",
      "No file found ./MontgomerySet/./MontgomerySet/CXR_png/MCUCXR_0062_0.png\n",
      "No file found ./MontgomerySet/./MontgomerySet/CXR_png/MCUCXR_0063_0.png\n",
      "No file found ./MontgomerySet/./MontgomerySet/CXR_png/MCUCXR_0064_0.png\n",
      "No file found ./MontgomerySet/./MontgomerySet/CXR_png/MCUCXR_0065_0.png\n",
      "No file found ./MontgomerySet/./MontgomerySet/CXR_png/MCUCXR_0066_0.png\n",
      "No file found ./MontgomerySet/./MontgomerySet/CXR_png/MCUCXR_0067_0.png\n",
      "No file found ./MontgomerySet/./MontgomerySet/CXR_png/MCUCXR_0068_0.png\n",
      "No file found ./MontgomerySet/./MontgomerySet/CXR_png/MCUCXR_0069_0.png\n",
      "No file found ./MontgomerySet/./MontgomerySet/CXR_png/MCUCXR_0070_0.png\n",
      "No file found ./MontgomerySet/./MontgomerySet/CXR_png/MCUCXR_0071_0.png\n",
      "No file found ./MontgomerySet/./MontgomerySet/CXR_png/MCUCXR_0072_0.png\n",
      "No file found ./MontgomerySet/./MontgomerySet/CXR_png/MCUCXR_0073_0.png\n",
      "No file found ./MontgomerySet/./MontgomerySet/CXR_png/MCUCXR_0074_0.png\n",
      "No file found ./MontgomerySet/./MontgomerySet/CXR_png/MCUCXR_0075_0.png\n",
      "No file found ./MontgomerySet/./MontgomerySet/CXR_png/MCUCXR_0076_0.png\n",
      "No file found ./MontgomerySet/./MontgomerySet/CXR_png/MCUCXR_0077_0.png\n",
      "No file found ./MontgomerySet/./MontgomerySet/CXR_png/MCUCXR_0078_0.png\n",
      "No file found ./MontgomerySet/./MontgomerySet/CXR_png/MCUCXR_0079_0.png\n",
      "No file found ./MontgomerySet/./MontgomerySet/CXR_png/MCUCXR_0080_0.png\n",
      "No file found ./MontgomerySet/./MontgomerySet/CXR_png/MCUCXR_0081_0.png\n",
      "No file found ./MontgomerySet/./MontgomerySet/CXR_png/MCUCXR_0082_0.png\n",
      "No file found ./MontgomerySet/./MontgomerySet/CXR_png/MCUCXR_0083_0.png\n",
      "No file found ./MontgomerySet/./MontgomerySet/CXR_png/MCUCXR_0084_0.png\n",
      "No file found ./MontgomerySet/./MontgomerySet/CXR_png/MCUCXR_0085_0.png\n",
      "No file found ./MontgomerySet/./MontgomerySet/CXR_png/MCUCXR_0086_0.png\n",
      "No file found ./MontgomerySet/./MontgomerySet/CXR_png/MCUCXR_0087_0.png\n",
      "No file found ./MontgomerySet/./MontgomerySet/CXR_png/MCUCXR_0088_0.png\n",
      "No file found ./MontgomerySet/./MontgomerySet/CXR_png/MCUCXR_0089_0.png\n",
      "No file found ./MontgomerySet/./MontgomerySet/CXR_png/MCUCXR_0090_0.png\n",
      "No file found ./MontgomerySet/./MontgomerySet/CXR_png/MCUCXR_0091_0.png\n",
      "No file found ./MontgomerySet/./MontgomerySet/CXR_png/MCUCXR_0092_0.png\n",
      "No file found ./MontgomerySet/./MontgomerySet/CXR_png/MCUCXR_0093_0.png\n",
      "No file found ./MontgomerySet/./MontgomerySet/CXR_png/MCUCXR_0094_0.png\n",
      "No file found ./MontgomerySet/./MontgomerySet/CXR_png/MCUCXR_0095_0.png\n",
      "No file found ./MontgomerySet/./MontgomerySet/CXR_png/MCUCXR_0096_0.png\n",
      "No file found ./MontgomerySet/./MontgomerySet/CXR_png/MCUCXR_0097_0.png\n",
      "No file found ./MontgomerySet/./MontgomerySet/CXR_png/MCUCXR_0098_0.png\n",
      "No file found ./MontgomerySet/./MontgomerySet/CXR_png/MCUCXR_0099_0.png\n",
      "No file found ./MontgomerySet/./MontgomerySet/CXR_png/MCUCXR_0100_0.png\n",
      "No file found ./MontgomerySet/./MontgomerySet/CXR_png/MCUCXR_0101_0.png\n",
      "No file found ./MontgomerySet/./MontgomerySet/CXR_png/MCUCXR_0102_0.png\n",
      "No file found ./MontgomerySet/./MontgomerySet/CXR_png/MCUCXR_0103_0.png\n",
      "No file found ./MontgomerySet/./MontgomerySet/CXR_png/MCUCXR_0104_0.png\n",
      "No file found ./MontgomerySet/./MontgomerySet/CXR_png/MCUCXR_0105_0.png\n",
      "No file found ./MontgomerySet/./MontgomerySet/CXR_png/MCUCXR_0106_0.png\n",
      "No file found ./MontgomerySet/./MontgomerySet/CXR_png/MCUCXR_0107_0.png\n",
      "No file found ./MontgomerySet/./MontgomerySet/CXR_png/MCUCXR_0108_0.png\n",
      "No file found ./MontgomerySet/./MontgomerySet/CXR_png/MCUCXR_0109_0.png\n",
      "No file found ./MontgomerySet/./MontgomerySet/CXR_png/MCUCXR_0110_0.png\n",
      "No file found ./MontgomerySet/./MontgomerySet/CXR_png/MCUCXR_0111_0.png\n",
      "No file found ./MontgomerySet/./MontgomerySet/CXR_png/MCUCXR_0112_0.png\n",
      "No file found ./MontgomerySet/./MontgomerySet/CXR_png/MCUCXR_0113_0.png\n",
      "No file found ./MontgomerySet/./MontgomerySet/CXR_png/MCUCXR_0114_0.png\n",
      "No file found ./MontgomerySet/./MontgomerySet/CXR_png/MCUCXR_0115_0.png\n",
      "No file found ./MontgomerySet/./MontgomerySet/CXR_png/MCUCXR_0116_0.png\n",
      "No file found ./MontgomerySet/./MontgomerySet/CXR_png/MCUCXR_0117_0.png\n",
      "No file found ./MontgomerySet/./MontgomerySet/CXR_png/MCUCXR_0118_0.png\n",
      "No file found ./MontgomerySet/./MontgomerySet/CXR_png/MCUCXR_0119_0.png\n",
      "No file found ./MontgomerySet/./MontgomerySet/CXR_png/MCUCXR_0120_0.png\n",
      "No file found ./MontgomerySet/./MontgomerySet/CXR_png/MCUCXR_0121_0.png\n",
      "No file found ./MontgomerySet/./MontgomerySet/CXR_png/MCUCXR_0122_0.png\n",
      "No file found ./MontgomerySet/./MontgomerySet/CXR_png/MCUCXR_0123_0.png\n",
      "No file found ./MontgomerySet/./MontgomerySet/CXR_png/MCUCXR_0124_0.png\n",
      "No file found ./MontgomerySet/./MontgomerySet/CXR_png/MCUCXR_0125_0.png\n",
      "No file found ./MontgomerySet/./MontgomerySet/CXR_png/MCUCXR_0126_0.png\n",
      "No file found ./MontgomerySet/./MontgomerySet/CXR_png/MCUCXR_0127_0.png\n",
      "No file found ./MontgomerySet/./MontgomerySet/CXR_png/MCUCXR_0128_0.png\n",
      "No file found ./MontgomerySet/./MontgomerySet/CXR_png/MCUCXR_0129_0.png\n",
      "No file found ./MontgomerySet/./MontgomerySet/CXR_png/MCUCXR_0130_0.png\n",
      "No file found ./MontgomerySet/./MontgomerySet/CXR_png/MCUCXR_0131_0.png\n",
      "No file found ./MontgomerySet/./MontgomerySet/CXR_png/MCUCXR_0132_0.png\n",
      "No file found ./MontgomerySet/./MontgomerySet/CXR_png/MCUCXR_0133_0.png\n",
      "No file found ./MontgomerySet/./MontgomerySet/CXR_png/MCUCXR_0134_0.png\n",
      "No file found ./MontgomerySet/./MontgomerySet/CXR_png/MCUCXR_0135_0.png\n",
      "No file found ./MontgomerySet/./MontgomerySet/CXR_png/MCUCXR_0136_0.png\n",
      "No file found ./MontgomerySet/./MontgomerySet/CXR_png/MCUCXR_0137_0.png\n",
      "No file found ./MontgomerySet/./MontgomerySet/CXR_png/MCUCXR_0138_0.png\n"
     ]
    }
   ],
   "source": [
    "BASE_PATH = \"./MontgomerySet/\"\n",
    "\n",
    "reader = csv.reader(open(BASE_PATH + 'Labels.csv'))\n",
    "X =[]\n",
    "Y =[]\n",
    "\n",
    "for i,row in enumerate(reader):\n",
    "    if len(row) > 0:\n",
    "        filename = get_image_filename(i)\n",
    "        img_file = cv2.imread(DATASETS_PATH + filename)\n",
    "        if img_file is not None:\n",
    "            img_file = cv2.cvtColor(img_file, cv2.COLOR_BGR2RGB)\n",
    "            img_file = scipy.misc.imresize(arr=img_file, size=(240, 320, 3))\n",
    "            img_arr = np.asarray(img_file)\n",
    "            X.append(img_arr)\n",
    "            Y.append(label)\n",
    "        else:\n",
    "            print(\"No file found\", BASE_PATH + filename)"
   ]
  },
  {
   "cell_type": "code",
   "execution_count": null,
   "metadata": {},
   "outputs": [],
   "source": []
  }
 ],
 "metadata": {
  "kernelspec": {
   "display_name": "Python 3",
   "language": "python",
   "name": "python3"
  },
  "language_info": {
   "codemirror_mode": {
    "name": "ipython",
    "version": 3
   },
   "file_extension": ".py",
   "mimetype": "text/x-python",
   "name": "python",
   "nbconvert_exporter": "python",
   "pygments_lexer": "ipython3",
   "version": "3.6.6"
  }
 },
 "nbformat": 4,
 "nbformat_minor": 2
}
