{
 "cells": [
  {
   "cell_type": "code",
   "execution_count": 5,
   "metadata": {},
   "outputs": [],
   "source": [
    "                                                                                                                                                                                                                                                                                                                                                                                                                                                                                                                                                                                                                                                                                                                                                                                                                                                                                                                                                                                                                                                                                                                                                                                                                                                                                                                                                                                                                                                                                                                                                                                                                                                                                                                                                                                                                                                                                                                                                                                                                                                                                                                                                                                                                                                                                                                                                                                                                                                                                                                                                                                                                                                                                                                                                                                                                                                                                                                                                                                                                                                                                                                                                                                                                                                                                                                                                                                                                                                                                                                                                                                                                                                                                                                                                                                                                                                                                                                                                                                                                                                                                                                                                                                                                                                                                                                                                                                                                                                                                                                                                                                                                                                                                                                                                                                                                                                                                                                                                                                                                                                                                                                                                                                                                                                                                                                                                                                                                                                                                                                                                                                                                                                                                                                                                                                                                                                                                                                                                                                                                                                                                                                                                                                                                                                                                                                                                                                                                                                                                                                                                                                                                                                                                                                                                                                                                                                                                                                                                                                                                                                                                                                                                                                                                                                                                                                                                                                                                                                                                                                                                                                                                                                                                                                                                                                                                                                                                                                                                                                                                                                                                                                                                                                                                                                                                                                                                                                                                                                                                                                                                                                                                                                                                                                                                                                                                                                                                                                                                                                                                                                                                                                                                                                                                                                                                                                                                                                                                                                                                                                                                                                                                                                                                                                                                                                                                                                                                                                                                                                                                                                                                                                                                                                                                                                                                                                                                                                                                                                                                                                                                                                                                                                                                                                        import os\n",
    "os.environ['KERAS_BACKEND'] = 'tensorflow'"
   ]
  },
  {
   "cell_type": "code",
   "execution_count": 22,
   "metadata": {},
   "outputs": [],
   "source": [
    "\n",
    "from __future__ import absolute_import\n",
    "from __future__ import print_function\n",
    "import pylab as pl\n",
    "import matplotlib.cm as cm\n",
    "import itertools\n",
    "import numpy as np\n",
    "import csv\n",
    "np.random.seed(1337) # for reproducibility\n",
    "\n",
    "from keras.layers.noise import GaussianNoise\n",
    "import keras.models as models\n",
    "from keras.layers.core import Layer, Dense, Dropout, Activation, Flatten, Reshape\n",
    "from keras.layers.convolutional import Convolution2D, MaxPooling2D, UpSampling2D, ZeroPadding2D\n",
    "from keras.layers.normalization import BatchNormalization\n",
    "from keras.utils import np_utils\n",
    "\n",
    "from keras import backend as K\n",
    "\n",
    "import cv2\n",
    "import numpy as np\n",
    "import pandas as pd\n",
    "import matplotlib.pyplot as plt\n",
    "from sklearn.cross_validation import train_test_split\n"
   ]
  },
  {
   "cell_type": "code",
   "execution_count": 7,
   "metadata": {},
   "outputs": [],
   "source": [
    "#load datasets\n",
    "DATASETS_PATH = \"./MontgomerySet/CXR_png/\"\n",
    "\n",
    "PREFIX = \"MCUCXR_\"\n",
    "SUFFICES = [ \"_0.png\",\"_1.png\"]\n",
    "def get_image_filename(index):\n",
    "    num_zeros = 4-len(str(index))\n",
    "    if(index < 104):\n",
    "        img_path = PREFIX + \"0\"*num_zeros + str(index) + SUFFICES[0]\n",
    "    else:\n",
    "        img_path = PREFIX + \"0\"*num_zeros + str(index) + SUFFICES[1]\n",
    "    return (DATASETS_PATH + img_path)"
   ]
  },
  {
   "cell_type": "code",
   "execution_count": 8,
   "metadata": {},
   "outputs": [
    {
     "data": {
      "text/plain": [
       "'./MontgomerySet/CXR_png/MCUCXR_0001_0.png'"
      ]
     },
     "execution_count": 8,
     "metadata": {},
     "output_type": "execute_result"
    }
   ],
   "source": [
    "get_image_filename(1)"
   ]
  },
  {
   "cell_type": "code",
   "execution_count": 9,
   "metadata": {},
   "outputs": [
    {
     "data": {
      "text/plain": [
       "'./MontgomerySet/CXR_png/MCUCXR_0104_1.png'"
      ]
     },
     "execution_count": 9,
     "metadata": {},
     "output_type": "execute_result"
    }
   ],
   "source": [
    "get_image_filename(104)"
   ]
  },
  {
   "cell_type": "code",
   "execution_count": 10,
   "metadata": {},
   "outputs": [
    {
     "data": {
      "text/plain": [
       "(138,)"
      ]
     },
     "execution_count": 10,
     "metadata": {},
     "output_type": "execute_result"
    }
   ],
   "source": [
    "CAPTIONS_PATH = \"./MontgomerySet/ClinicalReadings/\"\n",
    "\n",
    "caption_list = os.listdir(CAPTIONS_PATH)\n",
    "\n",
    "captions =[]\n",
    "for fname in caption_list:\n",
    "    with open(os.path.join(CAPTIONS_PATH,fname)) as f:\n",
    "            lines = f.read().splitlines(True)\n",
    "            caption =lines[-1]\n",
    "            captions.append(caption[:-1])\n",
    "    f.close()\n",
    "captions = np.asarray(captions)\n",
    "pd.DataFrame(captions).to_csv(\"./MontgomerySet/Captions.csv\")\n",
    "captions.shape"
   ]
  },
  {
   "cell_type": "code",
   "execution_count": 11,
   "metadata": {
    "scrolled": true
   },
   "outputs": [
    {
     "name": "stdout",
     "output_type": "stream",
     "text": [
      "No file found ./MontgomerySet/CXR_png/MCUCXR_0007_0.png\n",
      "No file found ./MontgomerySet/CXR_png/MCUCXR_0009_0.png\n",
      "No file found ./MontgomerySet/CXR_png/MCUCXR_0010_0.png\n",
      "No file found ./MontgomerySet/CXR_png/MCUCXR_0012_0.png\n",
      "No file found ./MontgomerySet/CXR_png/MCUCXR_0014_0.png\n",
      "No file found ./MontgomerySet/CXR_png/MCUCXR_0018_0.png\n",
      "No file found ./MontgomerySet/CXR_png/MCUCXR_0025_0.png\n",
      "No file found ./MontgomerySet/CXR_png/MCUCXR_0032_0.png\n",
      "No file found ./MontgomerySet/CXR_png/MCUCXR_0033_0.png\n",
      "No file found ./MontgomerySet/CXR_png/MCUCXR_0034_0.png\n",
      "No file found ./MontgomerySet/CXR_png/MCUCXR_0036_0.png\n",
      "No file found ./MontgomerySet/CXR_png/MCUCXR_0037_0.png\n",
      "No file found ./MontgomerySet/CXR_png/MCUCXR_0039_0.png\n",
      "No file found ./MontgomerySet/CXR_png/MCUCXR_0050_0.png\n",
      "No file found ./MontgomerySet/CXR_png/MCUCXR_0065_0.png\n",
      "No file found ./MontgomerySet/CXR_png/MCUCXR_0066_0.png\n",
      "No file found ./MontgomerySet/CXR_png/MCUCXR_0067_0.png\n",
      "No file found ./MontgomerySet/CXR_png/MCUCXR_0073_0.png\n",
      "No file found ./MontgomerySet/CXR_png/MCUCXR_0076_0.png\n",
      "No file found ./MontgomerySet/CXR_png/MCUCXR_0078_0.png\n",
      "No file found ./MontgomerySet/CXR_png/MCUCXR_0088_0.png\n",
      "No file found ./MontgomerySet/CXR_png/MCUCXR_0093_0.png\n",
      "No file found ./MontgomerySet/CXR_png/MCUCXR_0098_0.png\n",
      "No file found ./MontgomerySet/CXR_png/MCUCXR_0105_1.png\n",
      "No file found ./MontgomerySet/CXR_png/MCUCXR_0106_1.png\n",
      "No file found ./MontgomerySet/CXR_png/MCUCXR_0107_1.png\n",
      "No file found ./MontgomerySet/CXR_png/MCUCXR_0109_1.png\n",
      "No file found ./MontgomerySet/CXR_png/MCUCXR_0110_1.png\n",
      "No file found ./MontgomerySet/CXR_png/MCUCXR_0111_1.png\n",
      "No file found ./MontgomerySet/CXR_png/MCUCXR_0112_1.png\n",
      "No file found ./MontgomerySet/CXR_png/MCUCXR_0114_1.png\n",
      "No file found ./MontgomerySet/CXR_png/MCUCXR_0115_1.png\n",
      "No file found ./MontgomerySet/CXR_png/MCUCXR_0116_1.png\n",
      "No file found ./MontgomerySet/CXR_png/MCUCXR_0118_1.png\n",
      "No file found ./MontgomerySet/CXR_png/MCUCXR_0119_1.png\n",
      "No file found ./MontgomerySet/CXR_png/MCUCXR_0120_1.png\n",
      "No file found ./MontgomerySet/CXR_png/MCUCXR_0121_1.png\n",
      "No file found ./MontgomerySet/CXR_png/MCUCXR_0122_1.png\n",
      "No file found ./MontgomerySet/CXR_png/MCUCXR_0123_1.png\n",
      "No file found ./MontgomerySet/CXR_png/MCUCXR_0124_1.png\n",
      "No file found ./MontgomerySet/CXR_png/MCUCXR_0125_1.png\n",
      "No file found ./MontgomerySet/CXR_png/MCUCXR_0127_1.png\n",
      "No file found ./MontgomerySet/CXR_png/MCUCXR_0128_1.png\n",
      "No file found ./MontgomerySet/CXR_png/MCUCXR_0129_1.png\n",
      "No file found ./MontgomerySet/CXR_png/MCUCXR_0130_1.png\n",
      "No file found ./MontgomerySet/CXR_png/MCUCXR_0131_1.png\n",
      "No file found ./MontgomerySet/CXR_png/MCUCXR_0132_1.png\n",
      "No file found ./MontgomerySet/CXR_png/MCUCXR_0133_1.png\n",
      "No file found ./MontgomerySet/CXR_png/MCUCXR_0134_1.png\n",
      "No file found ./MontgomerySet/CXR_png/MCUCXR_0135_1.png\n",
      "No file found ./MontgomerySet/CXR_png/MCUCXR_0136_1.png\n",
      "No file found ./MontgomerySet/CXR_png/MCUCXR_0137_1.png\n",
      "No file found ./MontgomerySet/CXR_png/MCUCXR_0138_1.png\n",
      "No file found ./MontgomerySet/CXR_png/MCUCXR_0139_1.png\n"
     ]
    }
   ],
   "source": [
    "BASE_PATH = \"./MontgomerySet/\"\n",
    "\n",
    "reader = csv.reader(open(BASE_PATH + 'Captions.csv'))\n",
    "X =[]\n",
    "Y =[]\n",
    "fileNames =[]\n",
    "fileNamesExcluded = []\n",
    "for i,row in enumerate(reader):\n",
    "    if len(row) > 0:\n",
    "        filename = get_image_filename(i+1)\n",
    "        img_file = cv2.imread(filename)\n",
    "        if img_file is not None:\n",
    "            img_file = cv2.cvtColor(img_file, cv2.COLOR_BGR2RGB)\n",
    "            img_arr = np.asarray(img_file)\n",
    "            fileNames.append(filename)\n",
    "            X.append(img_arr)\n",
    "            Y.append(row[1])\n",
    "        else:\n",
    "            fileNamesExcluded.append(filename)\n",
    "            print(\"No file found\", filename)\n",
    "\n",
    "for file in sorted(os.listdir(DATASETS_PATH)):\n",
    "    file =os.path.join(DATASETS_PATH,file);\n",
    "    if file not in fileNames:\n",
    "        if file not in fileNamesExcluded:\n",
    "            fileNames.append(file)"
   ]
  },
  {
   "cell_type": "code",
   "execution_count": 12,
   "metadata": {},
   "outputs": [
    {
     "data": {
      "text/plain": [
       "['./MontgomerySet/CXR_png/MCUCXR_0001_0.png',\n",
       " './MontgomerySet/CXR_png/MCUCXR_0002_0.png',\n",
       " './MontgomerySet/CXR_png/MCUCXR_0003_0.png',\n",
       " './MontgomerySet/CXR_png/MCUCXR_0004_0.png',\n",
       " './MontgomerySet/CXR_png/MCUCXR_0005_0.png',\n",
       " './MontgomerySet/CXR_png/MCUCXR_0006_0.png',\n",
       " './MontgomerySet/CXR_png/MCUCXR_0008_0.png',\n",
       " './MontgomerySet/CXR_png/MCUCXR_0011_0.png',\n",
       " './MontgomerySet/CXR_png/MCUCXR_0013_0.png',\n",
       " './MontgomerySet/CXR_png/MCUCXR_0015_0.png',\n",
       " './MontgomerySet/CXR_png/MCUCXR_0016_0.png',\n",
       " './MontgomerySet/CXR_png/MCUCXR_0017_0.png',\n",
       " './MontgomerySet/CXR_png/MCUCXR_0019_0.png',\n",
       " './MontgomerySet/CXR_png/MCUCXR_0020_0.png',\n",
       " './MontgomerySet/CXR_png/MCUCXR_0021_0.png',\n",
       " './MontgomerySet/CXR_png/MCUCXR_0022_0.png',\n",
       " './MontgomerySet/CXR_png/MCUCXR_0023_0.png',\n",
       " './MontgomerySet/CXR_png/MCUCXR_0024_0.png',\n",
       " './MontgomerySet/CXR_png/MCUCXR_0026_0.png',\n",
       " './MontgomerySet/CXR_png/MCUCXR_0027_0.png',\n",
       " './MontgomerySet/CXR_png/MCUCXR_0028_0.png',\n",
       " './MontgomerySet/CXR_png/MCUCXR_0029_0.png',\n",
       " './MontgomerySet/CXR_png/MCUCXR_0030_0.png',\n",
       " './MontgomerySet/CXR_png/MCUCXR_0031_0.png',\n",
       " './MontgomerySet/CXR_png/MCUCXR_0035_0.png',\n",
       " './MontgomerySet/CXR_png/MCUCXR_0038_0.png',\n",
       " './MontgomerySet/CXR_png/MCUCXR_0040_0.png',\n",
       " './MontgomerySet/CXR_png/MCUCXR_0041_0.png',\n",
       " './MontgomerySet/CXR_png/MCUCXR_0042_0.png',\n",
       " './MontgomerySet/CXR_png/MCUCXR_0043_0.png',\n",
       " './MontgomerySet/CXR_png/MCUCXR_0044_0.png',\n",
       " './MontgomerySet/CXR_png/MCUCXR_0045_0.png',\n",
       " './MontgomerySet/CXR_png/MCUCXR_0046_0.png',\n",
       " './MontgomerySet/CXR_png/MCUCXR_0047_0.png',\n",
       " './MontgomerySet/CXR_png/MCUCXR_0048_0.png',\n",
       " './MontgomerySet/CXR_png/MCUCXR_0049_0.png',\n",
       " './MontgomerySet/CXR_png/MCUCXR_0051_0.png',\n",
       " './MontgomerySet/CXR_png/MCUCXR_0052_0.png',\n",
       " './MontgomerySet/CXR_png/MCUCXR_0053_0.png',\n",
       " './MontgomerySet/CXR_png/MCUCXR_0054_0.png',\n",
       " './MontgomerySet/CXR_png/MCUCXR_0055_0.png',\n",
       " './MontgomerySet/CXR_png/MCUCXR_0056_0.png',\n",
       " './MontgomerySet/CXR_png/MCUCXR_0057_0.png',\n",
       " './MontgomerySet/CXR_png/MCUCXR_0058_0.png',\n",
       " './MontgomerySet/CXR_png/MCUCXR_0059_0.png',\n",
       " './MontgomerySet/CXR_png/MCUCXR_0060_0.png',\n",
       " './MontgomerySet/CXR_png/MCUCXR_0061_0.png',\n",
       " './MontgomerySet/CXR_png/MCUCXR_0062_0.png',\n",
       " './MontgomerySet/CXR_png/MCUCXR_0063_0.png',\n",
       " './MontgomerySet/CXR_png/MCUCXR_0064_0.png',\n",
       " './MontgomerySet/CXR_png/MCUCXR_0068_0.png',\n",
       " './MontgomerySet/CXR_png/MCUCXR_0069_0.png',\n",
       " './MontgomerySet/CXR_png/MCUCXR_0070_0.png',\n",
       " './MontgomerySet/CXR_png/MCUCXR_0071_0.png',\n",
       " './MontgomerySet/CXR_png/MCUCXR_0072_0.png',\n",
       " './MontgomerySet/CXR_png/MCUCXR_0074_0.png',\n",
       " './MontgomerySet/CXR_png/MCUCXR_0075_0.png',\n",
       " './MontgomerySet/CXR_png/MCUCXR_0077_0.png',\n",
       " './MontgomerySet/CXR_png/MCUCXR_0079_0.png',\n",
       " './MontgomerySet/CXR_png/MCUCXR_0080_0.png',\n",
       " './MontgomerySet/CXR_png/MCUCXR_0081_0.png',\n",
       " './MontgomerySet/CXR_png/MCUCXR_0082_0.png',\n",
       " './MontgomerySet/CXR_png/MCUCXR_0083_0.png',\n",
       " './MontgomerySet/CXR_png/MCUCXR_0084_0.png',\n",
       " './MontgomerySet/CXR_png/MCUCXR_0085_0.png',\n",
       " './MontgomerySet/CXR_png/MCUCXR_0086_0.png',\n",
       " './MontgomerySet/CXR_png/MCUCXR_0087_0.png',\n",
       " './MontgomerySet/CXR_png/MCUCXR_0089_0.png',\n",
       " './MontgomerySet/CXR_png/MCUCXR_0090_0.png',\n",
       " './MontgomerySet/CXR_png/MCUCXR_0091_0.png',\n",
       " './MontgomerySet/CXR_png/MCUCXR_0092_0.png',\n",
       " './MontgomerySet/CXR_png/MCUCXR_0094_0.png',\n",
       " './MontgomerySet/CXR_png/MCUCXR_0095_0.png',\n",
       " './MontgomerySet/CXR_png/MCUCXR_0096_0.png',\n",
       " './MontgomerySet/CXR_png/MCUCXR_0097_0.png',\n",
       " './MontgomerySet/CXR_png/MCUCXR_0099_0.png',\n",
       " './MontgomerySet/CXR_png/MCUCXR_0100_0.png',\n",
       " './MontgomerySet/CXR_png/MCUCXR_0101_0.png',\n",
       " './MontgomerySet/CXR_png/MCUCXR_0102_0.png',\n",
       " './MontgomerySet/CXR_png/MCUCXR_0103_0.png',\n",
       " './MontgomerySet/CXR_png/MCUCXR_0104_1.png',\n",
       " './MontgomerySet/CXR_png/MCUCXR_0108_1.png',\n",
       " './MontgomerySet/CXR_png/MCUCXR_0113_1.png',\n",
       " './MontgomerySet/CXR_png/MCUCXR_0117_1.png',\n",
       " './MontgomerySet/CXR_png/MCUCXR_0126_1.png',\n",
       " './MontgomerySet/CXR_png/MCUCXR_0140_1.png',\n",
       " './MontgomerySet/CXR_png/MCUCXR_0141_1.png',\n",
       " './MontgomerySet/CXR_png/MCUCXR_0142_1.png',\n",
       " './MontgomerySet/CXR_png/MCUCXR_0144_1.png',\n",
       " './MontgomerySet/CXR_png/MCUCXR_0150_1.png',\n",
       " './MontgomerySet/CXR_png/MCUCXR_0162_1.png',\n",
       " './MontgomerySet/CXR_png/MCUCXR_0166_1.png',\n",
       " './MontgomerySet/CXR_png/MCUCXR_0170_1.png',\n",
       " './MontgomerySet/CXR_png/MCUCXR_0173_1.png',\n",
       " './MontgomerySet/CXR_png/MCUCXR_0182_1.png',\n",
       " './MontgomerySet/CXR_png/MCUCXR_0188_1.png',\n",
       " './MontgomerySet/CXR_png/MCUCXR_0194_1.png',\n",
       " './MontgomerySet/CXR_png/MCUCXR_0195_1.png',\n",
       " './MontgomerySet/CXR_png/MCUCXR_0196_1.png',\n",
       " './MontgomerySet/CXR_png/MCUCXR_0203_1.png',\n",
       " './MontgomerySet/CXR_png/MCUCXR_0213_1.png',\n",
       " './MontgomerySet/CXR_png/MCUCXR_0218_1.png',\n",
       " './MontgomerySet/CXR_png/MCUCXR_0223_1.png',\n",
       " './MontgomerySet/CXR_png/MCUCXR_0228_1.png',\n",
       " './MontgomerySet/CXR_png/MCUCXR_0243_1.png',\n",
       " './MontgomerySet/CXR_png/MCUCXR_0251_1.png',\n",
       " './MontgomerySet/CXR_png/MCUCXR_0253_1.png',\n",
       " './MontgomerySet/CXR_png/MCUCXR_0254_1.png',\n",
       " './MontgomerySet/CXR_png/MCUCXR_0255_1.png',\n",
       " './MontgomerySet/CXR_png/MCUCXR_0258_1.png',\n",
       " './MontgomerySet/CXR_png/MCUCXR_0264_1.png',\n",
       " './MontgomerySet/CXR_png/MCUCXR_0266_1.png',\n",
       " './MontgomerySet/CXR_png/MCUCXR_0275_1.png',\n",
       " './MontgomerySet/CXR_png/MCUCXR_0282_1.png',\n",
       " './MontgomerySet/CXR_png/MCUCXR_0289_1.png',\n",
       " './MontgomerySet/CXR_png/MCUCXR_0294_1.png',\n",
       " './MontgomerySet/CXR_png/MCUCXR_0301_1.png',\n",
       " './MontgomerySet/CXR_png/MCUCXR_0309_1.png',\n",
       " './MontgomerySet/CXR_png/MCUCXR_0311_1.png',\n",
       " './MontgomerySet/CXR_png/MCUCXR_0313_1.png',\n",
       " './MontgomerySet/CXR_png/MCUCXR_0316_1.png',\n",
       " './MontgomerySet/CXR_png/MCUCXR_0331_1.png',\n",
       " './MontgomerySet/CXR_png/MCUCXR_0334_1.png',\n",
       " './MontgomerySet/CXR_png/MCUCXR_0338_1.png',\n",
       " './MontgomerySet/CXR_png/MCUCXR_0348_1.png',\n",
       " './MontgomerySet/CXR_png/MCUCXR_0350_1.png',\n",
       " './MontgomerySet/CXR_png/MCUCXR_0352_1.png',\n",
       " './MontgomerySet/CXR_png/MCUCXR_0354_1.png',\n",
       " './MontgomerySet/CXR_png/MCUCXR_0362_1.png',\n",
       " './MontgomerySet/CXR_png/MCUCXR_0367_1.png',\n",
       " './MontgomerySet/CXR_png/MCUCXR_0369_1.png',\n",
       " './MontgomerySet/CXR_png/MCUCXR_0372_1.png',\n",
       " './MontgomerySet/CXR_png/MCUCXR_0375_1.png',\n",
       " './MontgomerySet/CXR_png/MCUCXR_0383_1.png',\n",
       " './MontgomerySet/CXR_png/MCUCXR_0387_1.png',\n",
       " './MontgomerySet/CXR_png/MCUCXR_0390_1.png',\n",
       " './MontgomerySet/CXR_png/MCUCXR_0393_1.png',\n",
       " './MontgomerySet/CXR_png/MCUCXR_0399_1.png']"
      ]
     },
     "execution_count": 12,
     "metadata": {},
     "output_type": "execute_result"
    }
   ],
   "source": [
    "X = np.asarray(X)\n",
    "y =np.asarray(Y)\n",
    "fileNames"
   ]
  },
  {
   "cell_type": "code",
   "execution_count": 13,
   "metadata": {},
   "outputs": [],
   "source": [
    "def categorize_images(folder):\n",
    "    labels =np.zeros((138,), dtype =int)\n",
    "    for i,f in enumerate(folder):\n",
    "        labels[i] = 0\n",
    "        if i >= 80:\n",
    "            labels[i] = 1\n",
    "    return labels"
   ]
  },
  {
   "cell_type": "code",
   "execution_count": 14,
   "metadata": {},
   "outputs": [
    {
     "data": {
      "text/plain": [
       "array([0, 0, 0, 0, 0, 0, 0, 0, 0, 0, 0, 0, 0, 0, 0, 0, 0, 0, 0, 0, 0, 0,\n",
       "       0, 0, 0, 0, 0, 0, 0, 0, 0, 0, 0, 0, 0, 0, 0, 0, 0, 0, 0, 0, 0, 0,\n",
       "       0, 0, 0, 0, 0, 0, 0, 0, 0, 0, 0, 0, 0, 0, 0, 0, 0, 0, 0, 0, 0, 0,\n",
       "       0, 0, 0, 0, 0, 0, 0, 0, 0, 0, 0, 0, 0, 0, 1, 1, 1, 1, 1, 1, 1, 1,\n",
       "       1, 1, 1, 1, 1, 1, 1, 1, 1, 1, 1, 1, 1, 1, 1, 1, 1, 1, 1, 1, 1, 1,\n",
       "       1, 1, 1, 1, 1, 1, 1, 1, 1, 1, 1, 1, 1, 1, 1, 1, 1, 1, 1, 1, 1, 1,\n",
       "       1, 1, 1, 1, 1, 1])"
      ]
     },
     "execution_count": 14,
     "metadata": {},
     "output_type": "execute_result"
    }
   ],
   "source": [
    "labels = categorize_images(fileNames)\n",
    "labels"
   ]
  },
  {
   "cell_type": "code",
   "execution_count": 15,
   "metadata": {},
   "outputs": [],
   "source": [
    "#caption vectorization\n",
    "token_index ={}\n",
    "\n",
    "for sample in y:\n",
    "    for word in sample.split():\n",
    "        if word not in token_index:\n",
    "            token_index[word] = len(token_index) + 1\n",
    "max_length = 100\n",
    "results = np.zeros(shape=(len(y),max_length, max(token_index.values())+ 1))\n",
    "\n",
    "for i, sample in enumerate(y):\n",
    "    for j, word in list(enumerate(sample.split()))[:max_length]:\n",
    "        index = token_index.get(word)\n",
    "        results[i,j,index] =1"
   ]
  },
  {
   "cell_type": "code",
   "execution_count": 16,
   "metadata": {},
   "outputs": [],
   "source": [
    "def get_data(x):\n",
    "    InputX =[]\n",
    "    for filename in x:\n",
    "        img_file = cv2.imread(filename)\n",
    "        if img_file is not None:\n",
    "            img_file = cv2.cvtColor(img_file, cv2.COLOR_BGR2RGB)\n",
    "            img_arr = np.asarray(img_file)\n",
    "            InputX.append(img_arr)\n",
    "    return InputX"
   ]
  },
  {
   "cell_type": "code",
   "execution_count": 17,
   "metadata": {},
   "outputs": [],
   "source": [
    "input_x =get_data(fileNames)"
   ]
  },
  {
   "cell_type": "code",
   "execution_count": 26,
   "metadata": {},
   "outputs": [
    {
     "data": {
      "text/plain": [
       "<matplotlib.image.AxesImage at 0x7ff49c034438>"
      ]
     },
     "execution_count": 26,
     "metadata": {},
     "output_type": "execute_result"
    },
    {
     "data": {
      "image/png": "[encoded data removed]",
      "text/plain": [
       "<Figure size 432x288 with 1 Axes>"
      ]
     },
     "metadata": {
      "needs_background": "light"
     },
     "output_type": "display_data"
    }
   ],
   "source": [
    "input_x = np.asarray(input_x)\n",
    "plt.imshow((input_x[55]))"
   ]
  },
  {
   "cell_type": "code",
   "execution_count": 27,
   "metadata": {},
   "outputs": [
    {
     "ename": "NameError",
     "evalue": "name 'train_test_split' is not defined",
     "output_type": "error",
     "traceback": [
      "\u001b[0;31m---------------------------------------------------------------------------\u001b[0m",
      "\u001b[0;31mNameError\u001b[0m                                 Traceback (most recent call last)",
      "\u001b[0;32m<ipython-input-27-2032fd88a7f6>\u001b[0m in \u001b[0;36m<module>\u001b[0;34m\u001b[0m\n\u001b[0;32m----> 1\u001b[0;31m \u001b[0mX_train\u001b[0m\u001b[0;34m,\u001b[0m \u001b[0mX_test\u001b[0m\u001b[0;34m,\u001b[0m \u001b[0my_train\u001b[0m\u001b[0;34m,\u001b[0m \u001b[0my_test\u001b[0m \u001b[0;34m=\u001b[0m \u001b[0mtrain_test_split\u001b[0m\u001b[0;34m(\u001b[0m\u001b[0minput_x\u001b[0m\u001b[0;34m,\u001b[0m \u001b[0mlabels\u001b[0m\u001b[0;34m,\u001b[0m \u001b[0mtest_size\u001b[0m\u001b[0;34m=\u001b[0m\u001b[0;36m0.2\u001b[0m\u001b[0;34m,\u001b[0m \u001b[0mrandom_state\u001b[0m\u001b[0;34m=\u001b[0m\u001b[0;36m10\u001b[0m\u001b[0;34m)\u001b[0m\u001b[0;34m\u001b[0m\u001b[0m\n\u001b[0m",
      "\u001b[0;31mNameError\u001b[0m: name 'train_test_split' is not defined"
     ]
    }
   ],
   "source": [
    "X_train, X_test, y_train, y_test = train_test_split(input_x, labels, test_size=0.2, random_state=10)"
   ]
  },
  {
   "cell_type": "code",
   "execution_count": null,
   "metadata": {},
   "outputs": [],
   "source": []
  }
 ],
 "metadata": {
  "kernelspec": {
   "display_name": "Python 3",
   "language": "python",
   "name": "python3"
  },
  "language_info": {
   "codemirror_mode": {
    "name": "ipython",
    "version": 3
   },
   "file_extension": ".py",
   "mimetype": "text/x-python",
   "name": "python",
   "nbconvert_exporter": "python",
   "pygments_lexer": "ipython3",
   "version": "3.6.6"
  }
 },
 "nbformat": 4,
 "nbformat_minor": 2
}
