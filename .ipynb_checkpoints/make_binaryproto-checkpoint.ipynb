{
 "cells": [
  {
   "cell_type": "code",
   "execution_count": 2,
   "metadata": {},
   "outputs": [],
   "source": [
    "import caffe\n",
    "from PIL import Image\n",
    "import numpy as np;\n",
    "import os\n",
    "\n",
    "\n",
    "#Create mean image function\n",
    "def create_mean(list_of_images):\n",
    "\n",
    "    for i in range(0,len(list_of_images)):\n",
    "        print (list_of_images[i])\n",
    "        if i == 0:\n",
    "            n = np.int32(Image.open(list_of_images[i]));\n",
    "        else:\n",
    "            n = n +   np.int32(Image.open(list_of_images[i]));\n",
    "\n",
    "    return np.uint8(np.double(n)/len(list_of_images))\n",
    "\n"
   ]
  },
  {
   "cell_type": "code",
   "execution_count": 3,
   "metadata": {},
   "outputs": [
    {
     "ename": "NameError",
     "evalue": "name 'reader' is not defined",
     "output_type": "error",
     "traceback": [
      "\u001b[0;31m---------------------------------------------------------------------------\u001b[0m",
      "\u001b[0;31mNameError\u001b[0m                                 Traceback (most recent call last)",
      "\u001b[0;32m<ipython-input-3-108e59df3ab7>\u001b[0m in \u001b[0;36m<module>\u001b[0;34m\u001b[0m\n\u001b[1;32m      4\u001b[0m \u001b[0mfileNamesExcluded\u001b[0m \u001b[0;34m=\u001b[0m \u001b[0;34m[\u001b[0m\u001b[0;34m]\u001b[0m\u001b[0;34m\u001b[0m\u001b[0;34m\u001b[0m\u001b[0m\n\u001b[1;32m      5\u001b[0m \u001b[0mDATASETS_PATH\u001b[0m \u001b[0;34m=\u001b[0m \u001b[0;34m\"./MontgomerySet/CXR_png/\"\u001b[0m\u001b[0;34m\u001b[0m\u001b[0;34m\u001b[0m\u001b[0m\n\u001b[0;32m----> 6\u001b[0;31m \u001b[0;32mfor\u001b[0m \u001b[0mi\u001b[0m\u001b[0;34m,\u001b[0m\u001b[0mrow\u001b[0m \u001b[0;32min\u001b[0m \u001b[0menumerate\u001b[0m\u001b[0;34m(\u001b[0m\u001b[0mreader\u001b[0m\u001b[0;34m)\u001b[0m\u001b[0;34m:\u001b[0m\u001b[0;34m\u001b[0m\u001b[0;34m\u001b[0m\u001b[0m\n\u001b[0m\u001b[1;32m      7\u001b[0m     \u001b[0;32mif\u001b[0m \u001b[0mlen\u001b[0m\u001b[0;34m(\u001b[0m\u001b[0mrow\u001b[0m\u001b[0;34m)\u001b[0m \u001b[0;34m>\u001b[0m \u001b[0;36m0\u001b[0m\u001b[0;34m:\u001b[0m\u001b[0;34m\u001b[0m\u001b[0;34m\u001b[0m\u001b[0m\n\u001b[1;32m      8\u001b[0m         \u001b[0mfilename\u001b[0m \u001b[0;34m=\u001b[0m \u001b[0mget_image_filename\u001b[0m\u001b[0;34m(\u001b[0m\u001b[0mi\u001b[0m\u001b[0;34m+\u001b[0m\u001b[0;36m1\u001b[0m\u001b[0;34m)\u001b[0m\u001b[0;34m\u001b[0m\u001b[0;34m\u001b[0m\u001b[0m\n",
      "\u001b[0;31mNameError\u001b[0m: name 'reader' is not defined"
     ]
    }
   ],
   "source": [
    "X =[]\n",
    "Y =[]\n",
    "fileNames =[]\n",
    "fileNamesExcluded = []\n",
    "\n",
    "BASE_PATH = \"./MontgomerySet/\"\n",
    "\n",
    "reader = csv.reader(open(BASE_PATH + 'Captions.csv'))\n",
    "\n",
    "DATASETS_PATH = \"./MontgomerySet/CXR_png/\"\n",
    "for i,row in enumerate(reader):\n",
    "    if len(row) > 0:\n",
    "        filename = get_image_filename(i+1)\n",
    "        img_file = cv2.imread(filename)\n",
    "        if img_file is not None:\n",
    "            img_file = cv2.cvtColor(img_file, cv2.COLOR_BGR2RGB)\n",
    "            img_file = scipy.misc.imresize(arr=img_file, size=(240, 320, 3))        \n",
    "            img_arr = np.asarray(img_file)\n",
    "            fileNames.append(filename)\n",
    "            X.append(img_arr)\n",
    "            Y.append(row[1])\n",
    "        else:\n",
    "            fileNamesExcluded.append(filename)\n",
    "            print(\"No file found\", filename)\n",
    "\n",
    "for file in sorted(os.listdir(DATASETS_PATH)):\n",
    "    file =os.path.join(DATASETS_PATH,file);\n",
    "    if file not in fileNames:\n",
    "        if file not in fileNamesExcluded:\n",
    "            fileNames.append(file)"
   ]
  },
  {
   "cell_type": "code",
   "execution_count": null,
   "metadata": {},
   "outputs": [],
   "source": [
    "\n",
    "avg_img  = create_mean(fileNames)\n",
    "\n",
    "\n",
    "blob = caffe.io.array_to_blobproto( avg_img)\n",
    "with open( mean.binaryproto, 'wb' ) as f :\n",
    "    f.write( blob.SerializeToString())"
   ]
  }
 ],
 "metadata": {
  "kernelspec": {
   "display_name": "Python 3",
   "language": "python",
   "name": "python3"
  },
  "language_info": {
   "codemirror_mode": {
    "name": "ipython",
    "version": 3
   },
   "file_extension": ".py",
   "mimetype": "text/x-python",
   "name": "python",
   "nbconvert_exporter": "python",
   "pygments_lexer": "ipython3",
   "version": "3.6.8"
  }
 },
 "nbformat": 4,
 "nbformat_minor": 2
}
