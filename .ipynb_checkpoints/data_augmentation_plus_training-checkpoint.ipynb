{
 "cells": [
  {
   "cell_type": "code",
   "execution_count": 1,
   "metadata": {},
   "outputs": [],
   "source": [
    "                                                                                                                                                                                                                                                                                                                                                                                                                                                                                                                                                                                                                                                                                                                                                                                                                                                                                                                                                                                                                                                                                                                                                                                                                                                                                                                                                                                                                                                                                                                                                                                                                                                                                                                                                                                                                                                                                                                                                                                                                                                                                                                                                                                                                                                                                                                                                                                                                                                                                                                                                                                                                                                                                                                                                                                                                                                                                                                                                                                                                                                                                                                                                                                                                                                                                                                                                                                                                                                                                                                                                                                                                                                                                                                                                                                                                                                                                                                                                                                                                                                                                                                                                                                                                                                                                                                                                                                                                                                                                                                                                                                                                                                                                                                                                                                                                                                                                                                                                                                                                                                                                                                                                                                                                                                                                                                                                                                                                                                                                                                                                                                                                                                                                                                                                                                                                                                                                                                                                                                                                                                                                                                                                                                                                                                                                                                                                                                                                                                                                                                                                                                                                                                                                                                                                                                                                                                                                                                                                                                                                                                                                                                                                                                                                                                                                                                                                                                                                                                                                                                                                                                                                                                                                                                                                                                                                                                                                                                                                                                                                                                                                                                                                                                                                                                                                                                                                                                                                                                                                                                                                                                                                                                                                                                                                                                                                                                                                                                                                                                                                                                                                                                                                                                                                                                                                                                                                                                                                                                                                                                                                                                                                                                                                                                                                                                                                                                                                                                                                                                                                                                                                                                                                                                                                                                                                                                                                                                                                                                                                                                                                                                                                                                                                                                                                                                                                                                                                                                                                                                                                                                                                                                                                                                                                                                                                                                                                                                                                                                                                                                                                                                                                                                                                                                                                                                                                                                                                                                                                                                                                                                                                                                                                                                                                                                                                                                                                                                                                                                                                                                                                                                                                                                                                                                                                                                                                                                                                                                                                                                                                                                                                                                                                                                                                                                                                                                                                                                                                                                                                                                                                                                                                                                                                                                                                                                                                                                                                                                                                                                                                                                                                                                                                                                                                                                                                                                                                                                                                                                                                                                                                                                                                                                                                                                                                                                                                                                                                                                                                                                                                                                                                                                                                                                                                                                                                                                                                                                                                                                                                                                                                                                                                                                                                                                                                                                                                                                                                                                                                                                                                                                                                                                                                                                                                                                                                                                                                                                                                                                                                                                                                                                                                                                                                                                                                                                                                                                                                                                                                                                                                                                                                                                                                                                                                                                                                                                                import os\n",
    "os.environ['KERAS_BACKEND'] = 'tensorflow'"
   ]
  },
  {
   "cell_type": "code",
   "execution_count": 2,
   "metadata": {},
   "outputs": [
    {
     "name": "stderr",
     "output_type": "stream",
     "text": [
      "Using TensorFlow backend.\n"
     ]
    }
   ],
   "source": [
    "\n",
    "from __future__ import absolute_import\n",
    "from __future__ import print_function\n",
    "import pylab as pl\n",
    "import matplotlib.cm as cm\n",
    "import itertools\n",
    "import numpy as np\n",
    "import csv\n",
    "np.random.seed(1337) # for reproducibility\n",
    "\n",
    "from keras.models import Sequential\n",
    "from keras.layers import Dense, Dropout, Activation, Flatten\n",
    "from keras.layers import Conv2D, MaxPooling2D, Lambda\n",
    "from keras.layers import Dense\n",
    "from keras.utils import np_utils\n",
    "from keras.preprocessing.image import ImageDataGenerator\n",
    "from sklearn.preprocessing import LabelEncoder\n",
    "\n",
    "from keras import backend as K\n",
    "\n",
    "import cv2\n",
    "import numpy as np\n",
    "import pandas as pd\n",
    "import matplotlib.pyplot as plt\n",
    "import scipy\n",
    "from keras.wrappers.scikit_learn import KerasClassifier\n",
    "from sklearn.model_selection import cross_val_score\n",
    "from sklearn.model_selection import KFold\n",
    "from sklearn.model_selection import train_test_split\n"
   ]
  },
  {
   "cell_type": "code",
   "execution_count": 3,
   "metadata": {},
   "outputs": [],
   "source": [
    "#load datasets\n",
    "DATASETS_PATH = \"./MontgomerySet/CXR_png/\"\n",
    "batch_size =32\n",
    "num_classes = 2\n",
    "epochs =20\n",
    "PREFIX = \"MCUCXR_\"\n",
    "SUFFICES = [ \"_0.png\",\"_1.png\"]\n",
    "def get_image_filename(index):\n",
    "    num_zeros = 4-len(str(index))\n",
    "    if(index < 104):\n",
    "        img_path = PREFIX + \"0\"*num_zeros + str(index) + SUFFICES[0]\n",
    "    else:\n",
    "        img_path = PREFIX + \"0\"*num_zeros + str(index) + SUFFICES[1]\n",
    "    return (DATASETS_PATH + img_path)"
   ]
  },
  {
   "cell_type": "code",
   "execution_count": 4,
   "metadata": {},
   "outputs": [
    {
     "data": {
      "text/plain": [
       "'./MontgomerySet/CXR_png/MCUCXR_0001_0.png'"
      ]
     },
     "execution_count": 4,
     "metadata": {},
     "output_type": "execute_result"
    }
   ],
   "source": [
    "get_image_filename(1)"
   ]
  },
  {
   "cell_type": "code",
   "execution_count": 5,
   "metadata": {},
   "outputs": [
    {
     "data": {
      "text/plain": [
       "'./MontgomerySet/CXR_png/MCUCXR_0104_1.png'"
      ]
     },
     "execution_count": 5,
     "metadata": {},
     "output_type": "execute_result"
    }
   ],
   "source": [
    "get_image_filename(104)"
   ]
  },
  {
   "cell_type": "code",
   "execution_count": 6,
   "metadata": {},
   "outputs": [],
   "source": [
    "CAPTIONS_PATH = \"./MontgomerySet/ClinicalReadings/\"\n",
    "\n",
    "caption_list = os.listdir(CAPTIONS_PATH)\n",
    "\n",
    "captions =[]\n",
    "for fname in caption_list:\n",
    "    with open(os.path.join(CAPTIONS_PATH,fname)) as f:\n",
    "            lines = f.read().splitlines(True)\n",
    "            caption =lines[-1]\n",
    "            captions.append(caption[:-1])\n",
    "    f.close()\n",
    "captions = np.asarray(captions)\n",
    "pd.DataFrame(captions).to_csv(\"./MontgomerySet/Captions.csv\")"
   ]
  },
  {
   "cell_type": "code",
   "execution_count": 7,
   "metadata": {
    "scrolled": true
   },
   "outputs": [
    {
     "name": "stderr",
     "output_type": "stream",
     "text": [
      "/home/dronny/anaconda3/envs/tensorflow/lib/python3.6/site-packages/ipykernel_launcher.py:14: DeprecationWarning: `imresize` is deprecated!\n",
      "`imresize` is deprecated in SciPy 1.0.0, and will be removed in 1.2.0.\n",
      "Use ``skimage.transform.resize`` instead.\n",
      "  \n"
     ]
    },
    {
     "name": "stdout",
     "output_type": "stream",
     "text": [
      "No file found ./MontgomerySet/CXR_png/MCUCXR_0007_0.png\n",
      "No file found ./MontgomerySet/CXR_png/MCUCXR_0009_0.png\n",
      "No file found ./MontgomerySet/CXR_png/MCUCXR_0010_0.png\n",
      "No file found ./MontgomerySet/CXR_png/MCUCXR_0012_0.png\n",
      "No file found ./MontgomerySet/CXR_png/MCUCXR_0014_0.png\n",
      "No file found ./MontgomerySet/CXR_png/MCUCXR_0018_0.png\n",
      "No file found ./MontgomerySet/CXR_png/MCUCXR_0025_0.png\n",
      "No file found ./MontgomerySet/CXR_png/MCUCXR_0032_0.png\n",
      "No file found ./MontgomerySet/CXR_png/MCUCXR_0033_0.png\n",
      "No file found ./MontgomerySet/CXR_png/MCUCXR_0034_0.png\n",
      "No file found ./MontgomerySet/CXR_png/MCUCXR_0036_0.png\n",
      "No file found ./MontgomerySet/CXR_png/MCUCXR_0037_0.png\n",
      "No file found ./MontgomerySet/CXR_png/MCUCXR_0039_0.png\n",
      "No file found ./MontgomerySet/CXR_png/MCUCXR_0050_0.png\n",
      "No file found ./MontgomerySet/CXR_png/MCUCXR_0065_0.png\n",
      "No file found ./MontgomerySet/CXR_png/MCUCXR_0066_0.png\n",
      "No file found ./MontgomerySet/CXR_png/MCUCXR_0067_0.png\n",
      "No file found ./MontgomerySet/CXR_png/MCUCXR_0073_0.png\n",
      "No file found ./MontgomerySet/CXR_png/MCUCXR_0076_0.png\n",
      "No file found ./MontgomerySet/CXR_png/MCUCXR_0078_0.png\n",
      "No file found ./MontgomerySet/CXR_png/MCUCXR_0088_0.png\n",
      "No file found ./MontgomerySet/CXR_png/MCUCXR_0093_0.png\n",
      "No file found ./MontgomerySet/CXR_png/MCUCXR_0098_0.png\n",
      "No file found ./MontgomerySet/CXR_png/MCUCXR_0105_1.png\n",
      "No file found ./MontgomerySet/CXR_png/MCUCXR_0106_1.png\n",
      "No file found ./MontgomerySet/CXR_png/MCUCXR_0107_1.png\n",
      "No file found ./MontgomerySet/CXR_png/MCUCXR_0109_1.png\n",
      "No file found ./MontgomerySet/CXR_png/MCUCXR_0110_1.png\n",
      "No file found ./MontgomerySet/CXR_png/MCUCXR_0111_1.png\n",
      "No file found ./MontgomerySet/CXR_png/MCUCXR_0112_1.png\n",
      "No file found ./MontgomerySet/CXR_png/MCUCXR_0114_1.png\n",
      "No file found ./MontgomerySet/CXR_png/MCUCXR_0115_1.png\n",
      "No file found ./MontgomerySet/CXR_png/MCUCXR_0116_1.png\n",
      "No file found ./MontgomerySet/CXR_png/MCUCXR_0118_1.png\n",
      "No file found ./MontgomerySet/CXR_png/MCUCXR_0119_1.png\n",
      "No file found ./MontgomerySet/CXR_png/MCUCXR_0120_1.png\n",
      "No file found ./MontgomerySet/CXR_png/MCUCXR_0121_1.png\n",
      "No file found ./MontgomerySet/CXR_png/MCUCXR_0122_1.png\n",
      "No file found ./MontgomerySet/CXR_png/MCUCXR_0123_1.png\n",
      "No file found ./MontgomerySet/CXR_png/MCUCXR_0124_1.png\n",
      "No file found ./MontgomerySet/CXR_png/MCUCXR_0125_1.png\n",
      "No file found ./MontgomerySet/CXR_png/MCUCXR_0127_1.png\n",
      "No file found ./MontgomerySet/CXR_png/MCUCXR_0128_1.png\n",
      "No file found ./MontgomerySet/CXR_png/MCUCXR_0129_1.png\n",
      "No file found ./MontgomerySet/CXR_png/MCUCXR_0130_1.png\n",
      "No file found ./MontgomerySet/CXR_png/MCUCXR_0131_1.png\n",
      "No file found ./MontgomerySet/CXR_png/MCUCXR_0132_1.png\n",
      "No file found ./MontgomerySet/CXR_png/MCUCXR_0133_1.png\n",
      "No file found ./MontgomerySet/CXR_png/MCUCXR_0134_1.png\n",
      "No file found ./MontgomerySet/CXR_png/MCUCXR_0135_1.png\n",
      "No file found ./MontgomerySet/CXR_png/MCUCXR_0136_1.png\n",
      "No file found ./MontgomerySet/CXR_png/MCUCXR_0137_1.png\n",
      "No file found ./MontgomerySet/CXR_png/MCUCXR_0138_1.png\n",
      "No file found ./MontgomerySet/CXR_png/MCUCXR_0139_1.png\n"
     ]
    }
   ],
   "source": [
    "BASE_PATH = \"./MontgomerySet/\"\n",
    "\n",
    "reader = csv.reader(open(BASE_PATH + 'Captions.csv'))\n",
    "X =[]\n",
    "Y =[]\n",
    "fileNames =[]\n",
    "fileNamesExcluded = []\n",
    "for i,row in enumerate(reader):\n",
    "    if len(row) > 0:\n",
    "        filename = get_image_filename(i+1)\n",
    "        img_file = cv2.imread(filename)\n",
    "        if img_file is not None:\n",
    "            img_file = cv2.cvtColor(img_file, cv2.COLOR_BGR2RGB)\n",
    "            img_file = scipy.misc.imresize(arr=img_file, size=(240, 320, 3))        \n",
    "            img_arr = np.asarray(img_file)\n",
    "            fileNames.append(filename)\n",
    "            X.append(img_arr)\n",
    "            Y.append(row[1])\n",
    "        else:\n",
    "            fileNamesExcluded.append(filename)\n",
    "            print(\"No file found\", filename)\n",
    "\n",
    "for file in sorted(os.listdir(DATASETS_PATH)):\n",
    "    file =os.path.join(DATASETS_PATH,file);\n",
    "    if file not in fileNames:\n",
    "        if file not in fileNamesExcluded:\n",
    "            fileNames.append(file)"
   ]
  },
  {
   "cell_type": "code",
   "execution_count": 9,
   "metadata": {},
   "outputs": [
    {
     "data": {
      "text/plain": [
       "(85,)"
      ]
     },
     "execution_count": 9,
     "metadata": {},
     "output_type": "execute_result"
    }
   ],
   "source": [
    "X = np.asarray(X)\n",
    "y_ =np.asarray(Y)\n",
    "y_.shape"
   ]
  },
  {
   "cell_type": "code",
   "execution_count": 10,
   "metadata": {},
   "outputs": [],
   "source": [
    "def categorize_images(folder):\n",
    "    labels =np.zeros((138,), dtype =int)\n",
    "    for i,f in enumerate(folder):\n",
    "        labels[i] = 0\n",
    "        if i >= 80:\n",
    "            labels[i] = 1\n",
    "    return labels"
   ]
  },
  {
   "cell_type": "code",
   "execution_count": 11,
   "metadata": {},
   "outputs": [],
   "source": [
    "labels = categorize_images(fileNames)\n",
    "\n",
    "encoder = LabelEncoder()\n",
    "encoder.fit(labels)\n",
    "encoded_y = encoder.transform(labels)\n",
    "\n",
    "y = np_utils.to_categorical(encoded_y)\n"
   ]
  },
  {
   "cell_type": "code",
   "execution_count": 12,
   "metadata": {},
   "outputs": [],
   "source": [
    "#caption vectorization\n",
    "token_index ={}\n",
    "\n",
    "for sample in y_:\n",
    "    for word in sample.split():\n",
    "        if word not in token_index:\n",
    "            token_index[word] = len(token_index) + 1\n",
    "max_length = 100\n",
    "results = np.zeros(shape=(len(y_),max_length, max(token_index.values())+ 1))\n",
    "\n",
    "for i, sample in enumerate(y_):\n",
    "    for j, word in list(enumerate(sample.split()))[:max_length]:\n",
    "        index = token_index.get(word)\n",
    "        results[i,j,index] =1"
   ]
  },
  {
   "cell_type": "code",
   "execution_count": 13,
   "metadata": {},
   "outputs": [],
   "source": [
    "import sys\n",
    "def get_data(x):\n",
    "    InputX =[]\n",
    "    for filename in x:\n",
    "        img_file = cv2.imread(filename)\n",
    "        if img_file is not None:\n",
    "            img_file = cv2.cvtColor(img_file, cv2.COLOR_BGR2RGB)\n",
    "            img_file = scipy.misc.imresize(arr=img_file, size=(240, 320, 3))  \n",
    "            img_arr = np.asarray(img_file)\n",
    "            InputX.append(img_arr)\n",
    "    return InputX"
   ]
  },
  {
   "cell_type": "code",
   "execution_count": 14,
   "metadata": {},
   "outputs": [
    {
     "name": "stderr",
     "output_type": "stream",
     "text": [
      "/home/dronny/anaconda3/envs/tensorflow/lib/python3.6/site-packages/ipykernel_launcher.py:8: DeprecationWarning: `imresize` is deprecated!\n",
      "`imresize` is deprecated in SciPy 1.0.0, and will be removed in 1.2.0.\n",
      "Use ``skimage.transform.resize`` instead.\n",
      "  \n"
     ]
    }
   ],
   "source": [
    "input_x = np.asarray(get_data(fileNames))"
   ]
  },
  {
   "cell_type": "code",
   "execution_count": 16,
   "metadata": {},
   "outputs": [
    {
     "data": {
      "text/plain": [
       "<matplotlib.image.AxesImage at 0x7fb82bd6f470>"
      ]
     },
     "execution_count": 16,
     "metadata": {},
     "output_type": "execute_result"
    },
    {
     "data": {
      "image/png": "[encoded data removed]",
      "text/plain": [
       "<Figure size 432x288 with 1 Axes>"
      ]
     },
     "metadata": {
      "needs_background": "light"
     },
     "output_type": "display_data"
    }
   ],
   "source": [
    "plt.imshow((input_x[5]))"
   ]
  },
  {
   "cell_type": "code",
   "execution_count": 38,
   "metadata": {},
   "outputs": [
    {
     "data": {
      "text/plain": [
       "(138, 240, 320, 3)"
      ]
     },
     "execution_count": 38,
     "metadata": {},
     "output_type": "execute_result"
    }
   ],
   "source": [
    "input_x.shape"
   ]
  },
  {
   "cell_type": "code",
   "execution_count": 39,
   "metadata": {},
   "outputs": [],
   "source": [
    "X_train, X_test, y_train, y_test = train_test_split(input_x, y, test_size=0.2, random_state=10)"
   ]
  },
  {
   "cell_type": "code",
   "execution_count": 40,
   "metadata": {},
   "outputs": [],
   "source": [
    "datagen = ImageDataGenerator(\n",
    "    rotation_range=20,\n",
    "    width_shift_range=0.2,\n",
    "    height_shift_range=0.2,\n",
    "    horizontal_flip=True)"
   ]
  },
  {
   "cell_type": "code",
   "execution_count": 41,
   "metadata": {},
   "outputs": [],
   "source": [
    "\n",
    "train_generator = datagen.flow(\n",
    "        X_train,\n",
    "        y_train,\n",
    "    batch_size =batch_size\n",
    "     )\n",
    "\n",
    "validation_generator = datagen.flow(\n",
    "        X_test,\n",
    "        y_test,\n",
    "batch_size = batch_size)"
   ]
  },
  {
   "cell_type": "code",
   "execution_count": 42,
   "metadata": {},
   "outputs": [],
   "source": [
    "normal_test_samples = X_test[np.where(y_test ==0)]\n",
    "abnormal_test_samples = X_test[np.where(y_test ==1)]\n",
    "\n",
    "\n",
    "normal_train_samples = X_train[np.where(y_train ==0)]\n",
    "abnormal_train_samples = X_train[np.where(y_train ==1)]\n"
   ]
  },
  {
   "cell_type": "code",
   "execution_count": 47,
   "metadata": {},
   "outputs": [],
   "source": [
    "def sequence_image_generator(x, y, batch_size, generator, seq_len=4):\n",
    "    new_y = np.repeat(y, seq_len, axis = 0)\n",
    "    helper_flow = generator.flow(x.reshape((x.shape[0] * seq_len,\n",
    "                                            x.shape[2])),\n",
    "                                 new_y,\n",
    "                                 batch_size=seq_len * batch_size)\n",
    "    for x_temp, y_temp in helper_flow:\n",
    "        yield x_temp.reshape((int(x_temp.shape[0] / seq_len),\n",
    "                              seq_len, \n",
    "                              x.shape[2])), y_temp[::seq_len,:]"
   ]
  },
  {
   "cell_type": "code",
   "execution_count": 48,
   "metadata": {},
   "outputs": [],
   "source": [
    "datagen = ImageDataGenerator(\n",
    "     rotation_range=20,\n",
    "    fill_mode='constant',\n",
    "    height_shift_range=0.1,\n",
    "    width_shift_range=0.1,\n",
    "    horizontal_flip=True,\n",
    "    vertical_flip=True,\n",
    "    shear_range=0.2\n",
    ")"
   ]
  },
  {
   "cell_type": "code",
   "execution_count": 49,
   "metadata": {},
   "outputs": [],
   "source": [
    "normal_test_generator=sequence_image_generator(normal_test_samples, y_test[np.where(y_test == 0)], batch_size, datagen)\n",
    "\n",
    "abnormal_test_generator=sequence_image_generator(abnormal_test_samples, y_test[np.where(y_test == 1)], batch_size, datagen)\n",
    "\n",
    "normal_train_generator=sequence_image_generator(normal_train_samples, y_train[np.where(y_train == 0)], batch_size, datagen)\n",
    "\n",
    "abnormal_train_generator=sequence_image_generator(abnormal_train_samples, y_train[np.where(y_train == 1)], batch_size, datagen)"
   ]
  },
  {
   "cell_type": "code",
   "execution_count": 50,
   "metadata": {},
   "outputs": [
    {
     "ename": "ValueError",
     "evalue": "cannot reshape array of size 105600 into shape (440,320)",
     "output_type": "error",
     "traceback": [
      "\u001b[0;31m---------------------------------------------------------------------------\u001b[0m",
      "\u001b[0;31mValueError\u001b[0m                                Traceback (most recent call last)",
      "\u001b[0;32m<ipython-input-50-ec5ce0259d23>\u001b[0m in \u001b[0;36m<module>\u001b[0;34m\u001b[0m\n\u001b[1;32m      1\u001b[0m \u001b[0;32mfor\u001b[0m \u001b[0mi\u001b[0m \u001b[0;32min\u001b[0m \u001b[0mrange\u001b[0m\u001b[0;34m(\u001b[0m\u001b[0;36m2500\u001b[0m\u001b[0;34m)\u001b[0m\u001b[0;34m:\u001b[0m\u001b[0;34m\u001b[0m\u001b[0m\n\u001b[0;32m----> 2\u001b[0;31m     \u001b[0mnext\u001b[0m\u001b[0;34m(\u001b[0m\u001b[0mnormal_train_generator\u001b[0m\u001b[0;34m)\u001b[0m\u001b[0;34m\u001b[0m\u001b[0m\n\u001b[0m\u001b[1;32m      3\u001b[0m     \u001b[0mnext\u001b[0m\u001b[0;34m(\u001b[0m\u001b[0mnormal_test_generator\u001b[0m\u001b[0;34m)\u001b[0m\u001b[0;34m\u001b[0m\u001b[0m\n\u001b[1;32m      4\u001b[0m     \u001b[0mnext\u001b[0m\u001b[0;34m(\u001b[0m\u001b[0mabnormal_train_generator\u001b[0m\u001b[0;34m)\u001b[0m\u001b[0;34m\u001b[0m\u001b[0m\n\u001b[1;32m      5\u001b[0m     \u001b[0mnext\u001b[0m\u001b[0;34m(\u001b[0m\u001b[0mabnormal_test_generator\u001b[0m\u001b[0;34m)\u001b[0m\u001b[0;34m\u001b[0m\u001b[0m\n",
      "\u001b[0;32m<ipython-input-47-7ae2745ce9da>\u001b[0m in \u001b[0;36msequence_image_generator\u001b[0;34m(x, y, batch_size, generator, seq_len)\u001b[0m\n\u001b[1;32m      2\u001b[0m     \u001b[0mnew_y\u001b[0m \u001b[0;34m=\u001b[0m \u001b[0mnp\u001b[0m\u001b[0;34m.\u001b[0m\u001b[0mrepeat\u001b[0m\u001b[0;34m(\u001b[0m\u001b[0my\u001b[0m\u001b[0;34m,\u001b[0m \u001b[0mseq_len\u001b[0m\u001b[0;34m,\u001b[0m \u001b[0maxis\u001b[0m \u001b[0;34m=\u001b[0m \u001b[0;36m0\u001b[0m\u001b[0;34m)\u001b[0m\u001b[0;34m\u001b[0m\u001b[0m\n\u001b[1;32m      3\u001b[0m     helper_flow = generator.flow(x.reshape((x.shape[0] * seq_len,\n\u001b[0;32m----> 4\u001b[0;31m                                             x.shape[1])),\n\u001b[0m\u001b[1;32m      5\u001b[0m                                  \u001b[0mnew_y\u001b[0m\u001b[0;34m,\u001b[0m\u001b[0;34m\u001b[0m\u001b[0m\n\u001b[1;32m      6\u001b[0m                                  batch_size=seq_len * batch_size)\n",
      "\u001b[0;31mValueError\u001b[0m: cannot reshape array of size 105600 into shape (440,320)"
     ]
    }
   ],
   "source": [
    "for i in range(2500):\n",
    "    next(normal_train_generator)\n",
    "    next(normal_test_generator)\n",
    "    next(abnormal_train_generator)\n",
    "    next(abnormal_test_generator)"
   ]
  },
  {
   "cell_type": "code",
   "execution_count": null,
   "metadata": {},
   "outputs": [],
   "source": [
    "\n",
    "#normal_test_generator = datagen.flow(\n",
    "#        normal_test_samples,\n",
    " #       y_test[np.where(y_test == 0)],\n",
    "  #      save_to_dir='./MontgomerySet/TEST/NORMAL_SAMPLES',\n",
    "   #     batch_size=1)\n",
    "\n",
    "#abnormal_test_generator = datagen.flow(\n",
    " #       abnormal_test_samples,\n",
    "  #      y_test[np.where(y_test ==1)],\n",
    "   #     save_to_dir='./MontgomerySet/TEST/ABNORMAL_SAMPLES',\n",
    "     #   batch_size=1)\n",
    "\n",
    "#normal_train_generator = datagen.flow(\n",
    " #       normal_train_samples,\n",
    "  #      y_train[np.where(y_train == 0)],\n",
    "   #     save_to_dir='./MontgomerySet/TRAIN/NORMAL_SAMPLES',\n",
    "    #    batch_size=1)\n",
    "\n",
    "#abnormal_train_generator = datagen.flow(\n",
    " #       abnormal_train__samples,\n",
    "  #      y_train[np.where(y_train ==1)],\n",
    "   #     save_to_dir='./MontgomerySet/TRAIN/ABNORMAL_SAMPLES',\n",
    "    #    batch_size=1)"
   ]
  },
  {
   "cell_type": "code",
   "execution_count": 107,
   "metadata": {},
   "outputs": [],
   "source": [
    "def get_model():\n",
    "    model = Sequential()\n",
    "    model.add(Lambda(lambda x: x/127.5 - 1., input_shape=(240, 320, 3), output_shape=(240, 320, 3)))\n",
    "    model.add(Conv2D(32, (3, 3), input_shape=(240, 320, 3)))\n",
    "    model.add(Activation('relu'))\n",
    "    model.add(MaxPooling2D(pool_size=(2, 2)))\n",
    "\n",
    "    model.add(Conv2D(32, (3, 3)))\n",
    "    model.add(Activation('relu'))\n",
    "    model.add(MaxPooling2D(pool_size=(2, 2)))\n",
    "\n",
    "    model.add(Conv2D(64, (3, 3)))\n",
    "    model.add(Activation('relu'))\n",
    "    model.add(MaxPooling2D(pool_size=(2, 2)))\n",
    "\n",
    "    model.add(Flatten())  # this converts our 3D feature maps to 1D feature vectors\n",
    "    model.add(Dense(64))\n",
    "    model.add(Activation('relu'))\n",
    "    model.add(Dropout(0.5))\n",
    "    model.add(Dense(num_classes))\n",
    "    model.add(Activation('softmax'))\n",
    "\n",
    "    model.compile(loss='categorical_crossentropy',\n",
    "                optimizer='adam',\n",
    "                metrics=['accuracy'])\n",
    "\n",
    "    return model    "
   ]
  },
  {
   "cell_type": "code",
   "execution_count": null,
   "metadata": {},
   "outputs": [],
   "source": [
    "model = get_model()\n",
    "\n",
    "\n",
    "# fits the model on batches\n",
    "history =model.fit(\n",
    "    X_train,\n",
    "    y_train,\n",
    "    validation_split=0.2,\n",
    "    epochs=epochs,\n",
    "    shuffle=True,\n",
    "    batch_size=batch_size)\n",
    "\n",
    "model.save_weights('balanced_model.h5')"
   ]
  },
  {
   "cell_type": "code",
   "execution_count": 57,
   "metadata": {},
   "outputs": [
    {
     "data": {
      "image/png": "[encoded data removed]",
      "text/plain": [
       "<Figure size 432x288 with 1 Axes>"
      ]
     },
     "metadata": {
      "needs_background": "light"
     },
     "output_type": "display_data"
    },
    {
     "data": {
      "text/plain": [
       "<Figure size 432x288 with 0 Axes>"
      ]
     },
     "metadata": {},
     "output_type": "display_data"
    }
   ],
   "source": [
    "# summarize history for loss\n",
    "plt.plot(history.history['loss'])\n",
    "plt.plot(history.history['val_loss'])\n",
    "plt.title('model loss')\n",
    "plt.ylabel('loss')\n",
    "plt.xlabel('epoch')\n",
    "plt.legend(['train', 'test'], loc='upper right')\n",
    "plt.show()\n",
    "plt.savefig('model_loss_50epochs.png')"
   ]
  },
  {
   "cell_type": "code",
   "execution_count": 32,
   "metadata": {},
   "outputs": [
    {
     "name": "stdout",
     "output_type": "stream",
     "text": [
      "Epoch 1/20\n",
      "110/110 [==============================] - 372s 3s/step - loss: 0.6817 - acc: 0.5754 - val_loss: 0.6642 - val_acc: 0.6071\n",
      "Epoch 2/20\n",
      "110/110 [==============================] - 337s 3s/step - loss: 0.6692 - acc: 0.5802 - val_loss: 0.6344 - val_acc: 0.6339\n",
      "Epoch 3/20\n",
      "110/110 [==============================] - 337s 3s/step - loss: 0.6620 - acc: 0.5918 - val_loss: 0.6308 - val_acc: 0.6084\n",
      "Epoch 4/20\n",
      "110/110 [==============================] - 326s 3s/step - loss: 0.6428 - acc: 0.6276 - val_loss: 0.6026 - val_acc: 0.6735\n",
      "Epoch 5/20\n",
      "110/110 [==============================] - 323s 3s/step - loss: 0.6453 - acc: 0.6142 - val_loss: 0.5994 - val_acc: 0.6760\n",
      "Epoch 6/20\n",
      "110/110 [==============================] - 380s 3s/step - loss: 0.6496 - acc: 0.6073 - val_loss: 0.6088 - val_acc: 0.6786\n",
      "Epoch 7/20\n",
      "110/110 [==============================] - 408s 4s/step - loss: 0.6391 - acc: 0.6247 - val_loss: 0.6033 - val_acc: 0.6952\n",
      "Epoch 8/20\n",
      "110/110 [==============================] - 370s 3s/step - loss: 0.6303 - acc: 0.6406 - val_loss: 0.5900 - val_acc: 0.6760\n",
      "Epoch 9/20\n",
      "110/110 [==============================] - 368s 3s/step - loss: 0.6364 - acc: 0.6410 - val_loss: 0.5919 - val_acc: 0.7041\n",
      "Epoch 10/20\n",
      "110/110 [==============================] - 358s 3s/step - loss: 0.6346 - acc: 0.6407 - val_loss: 0.5913 - val_acc: 0.6977\n",
      "Epoch 11/20\n",
      "110/110 [==============================] - 332s 3s/step - loss: 0.6351 - acc: 0.6431 - val_loss: 0.5776 - val_acc: 0.7245\n",
      "Epoch 12/20\n",
      "110/110 [==============================] - 338s 3s/step - loss: 0.6233 - acc: 0.6682 - val_loss: 0.5573 - val_acc: 0.7156\n",
      "Epoch 13/20\n",
      "110/110 [==============================] - 335s 3s/step - loss: 0.6048 - acc: 0.6671 - val_loss: 0.5591 - val_acc: 0.7360\n",
      "Epoch 14/20\n",
      "110/110 [==============================] - 333s 3s/step - loss: 0.5955 - acc: 0.6720 - val_loss: 0.5738 - val_acc: 0.7181\n",
      "Epoch 15/20\n",
      "110/110 [==============================] - 332s 3s/step - loss: 0.5980 - acc: 0.6662 - val_loss: 0.5511 - val_acc: 0.7436\n",
      "Epoch 16/20\n",
      "110/110 [==============================] - 328s 3s/step - loss: 0.5756 - acc: 0.6922 - val_loss: 0.5703 - val_acc: 0.6990\n",
      "Epoch 17/20\n",
      "110/110 [==============================] - 330s 3s/step - loss: 0.5790 - acc: 0.6975 - val_loss: 0.5568 - val_acc: 0.7602\n",
      "Epoch 18/20\n",
      "110/110 [==============================] - 332s 3s/step - loss: 0.5568 - acc: 0.7078 - val_loss: 0.5351 - val_acc: 0.7372\n",
      "Epoch 19/20\n",
      "110/110 [==============================] - 342s 3s/step - loss: 0.5510 - acc: 0.7110 - val_loss: 0.5150 - val_acc: 0.7666\n",
      "Epoch 20/20\n",
      "110/110 [==============================] - 333s 3s/step - loss: 0.5519 - acc: 0.7127 - val_loss: 0.5310 - val_acc: 0.7474\n"
     ]
    }
   ],
   "source": [
    "# fits the model on batches with real-time data augmentation:\n",
    "gen_history=model.fit_generator(\n",
    "    train_generator,\n",
    "    steps_per_epoch=len(X_train),\n",
    "    validation_data=validation_generator,\n",
    "    validation_steps=len(X_test),\n",
    "    epochs=epochs)\n",
    "model.save_weights('mask_1.h5') "
   ]
  },
  {
   "cell_type": "code",
   "execution_count": 34,
   "metadata": {},
   "outputs": [
    {
     "data": {
      "image/png": "[encoded data removed]",
      "text/plain": [
       "<Figure size 432x288 with 1 Axes>"
      ]
     },
     "metadata": {
      "needs_background": "light"
     },
     "output_type": "display_data"
    },
    {
     "data": {
      "text/plain": [
       "<Figure size 432x288 with 0 Axes>"
      ]
     },
     "metadata": {},
     "output_type": "display_data"
    }
   ],
   "source": [
    "# summarize history for loss\n",
    "plt.plot(gen_history.history['loss'])\n",
    "plt.plot(gen_history.history['val_loss'])\n",
    "plt.title('model loss')\n",
    "plt.ylabel('loss')\n",
    "plt.xlabel('epoch')\n",
    "plt.legend(['train', 'test'], loc='upper right')\n",
    "plt.show()\n",
    "plt.savefig('model_loss_50epochs.png')"
   ]
  },
  {
   "cell_type": "code",
   "execution_count": null,
   "metadata": {},
   "outputs": [],
   "source": []
  }
 ],
 "metadata": {
  "kernelspec": {
   "display_name": "Python 3",
   "language": "python",
   "name": "python3"
  },
  "language_info": {
   "codemirror_mode": {
    "name": "ipython",
    "version": 3
   },
   "file_extension": ".py",
   "mimetype": "text/x-python",
   "name": "python",
   "nbconvert_exporter": "python",
   "pygments_lexer": "ipython3",
   "version": "3.6.6"
  }
 },
 "nbformat": 4,
 "nbformat_minor": 2
}
